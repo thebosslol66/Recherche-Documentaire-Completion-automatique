{
 "cells": [
  {
   "cell_type": "markdown",
   "id": "34b01b51-d450-47a0-96ae-a112c5a114d7",
   "metadata": {},
   "source": [
    "# La (semi-)complétion automatique"
   ]
  },
  {
   "cell_type": "markdown",
   "id": "bccaa1fb-30d1-4d75-9d70-201952e23aca",
   "metadata": {},
   "source": [
    "### Table des matières:\n",
    "* [Les approches utilisées](#appproches)\n",
    "    * [Introduction](#introduction)\n",
    "    * [Histoire](#histoire)\n",
    "    * [Par dictionnaire](#dictionnaire)\n",
    "    * [Par mot précememment saisis](#predemment-saisis)\n",
    "    * [Par les caratères de l'application](#caractere-application)\n",
    "    * [Par sémantique](#semantique)\n",
    "        * [Intelligence Artificielle](#intelligence-artificielle)\n",
    "        *[Algorithme type GPT-3](#intelligence-artificielle-GPT3)\n",
    "* [Les algorithmes de calculs de distance](#calcul-distance)"
   ]
  },
  {
   "cell_type": "markdown",
   "id": "1af343a1-8960-4ada-b40e-317df581e696",
   "metadata": {
    "tags": []
   },
   "source": [
    "## Les approches utilisées <a class=\"anchor\" id=\"appproches\"></a>"
   ]
  },
  {
   "cell_type": "markdown",
   "id": "56cbf69f-3fdc-44ca-b21d-a6cdd6369b79",
   "metadata": {
    "slideshow": {
     "slide_type": "slide"
    },
    "tags": []
   },
   "source": [
    "### Introduction <a class=\"anchor\" id=\"introduction\"></a>"
   ]
  },
  {
   "cell_type": "markdown",
   "id": "e199df42-3271-44b7-95c7-45b754ca9798",
   "metadata": {
    "slideshow": {
     "slide_type": "fragment"
    },
    "tags": []
   },
   "source": [
    "La semi-complétion automatique est une fontionnalitée informatique permettant a l'utilisateur de limiter la quantité d'information qu'il saisies avec son clavier , en se voyant proposer un complément qui pourrait convenir avec la chaine de caractères qu'il a commancé a saisir.\n",
    "\n",
    "La semi-complétion automatique a pour but de simplifier la tâche d'écriture de l'utilisateur.\n",
    "On peux citer des exemples dans lesquels ces algorithmes sont utilisées :"
   ]
  },
  {
   "cell_type": "markdown",
   "id": "5f643c3d-f34a-4d61-83ea-64ee2ef71c3a",
   "metadata": {
    "slideshow": {
     "slide_type": "notes"
    },
    "tags": []
   },
   "source": [
    "* La complétion dans la recherches sur les navigateurs\n",
    "* La complétions des mots dans les messages textes\n",
    "* Dans l'écriture de code informatique\n",
    "* Dans les mails"
   ]
  },
  {
   "cell_type": "markdown",
   "id": "aed422c4-0068-45b1-aefd-cf8267d423af",
   "metadata": {
    "slideshow": {
     "slide_type": "fragment"
    },
    "tags": []
   },
   "source": [
    "Dans cette présentation on se concentretas sur la semi-completion automatique des messges textes écrits par nos téléphones."
   ]
  },
  {
   "cell_type": "markdown",
   "id": "44c052fe-745a-40ad-aeb0-15f3bdf59ce1",
   "metadata": {
    "slideshow": {
     "slide_type": "subslide"
    },
    "tags": []
   },
   "source": [
    "### Un peu d'histoire <a class=\"anchor\" id=\"histoire\"></a>"
   ]
  },
  {
   "cell_type": "markdown",
   "id": "82fefa1a-01ab-4931-8b22-98bc94f9c69b",
   "metadata": {},
   "source": [
    "L’histoire des correcteurs automatiques a commencé chez Microsoft au début des années 90.\n",
    "Le logiciel ne disposait que d'un \"autoexpander\", des racourcis clavier pour écrire un mot pré-enregistrée.\n",
    "\n",
    "**Dean Hachamovitch** S'est inspiré de ce système pour créer le premier correcteur orthographique qui remplaçait les \"teh\" par \"the\""
   ]
  },
  {
   "cell_type": "markdown",
   "id": "ba746d10-5a75-4fb2-8dd2-64f377bd4e16",
   "metadata": {},
   "source": [
    "Lui et son équipe ont vu que c'était une idée interéssante et ont décidés de develloper cette iddée en créant des dictionnaires qui remplaçait un mot mal orthographié par le mot correctement ortographié.\n",
    "\n",
    "C'est ainsi qu'est apparue la première approche que nous allons détailler: l'approche par dictionnaire."
   ]
  },
  {
   "cell_type": "markdown",
   "id": "c14916b2-97b3-4d0c-9b32-201d6abce7c0",
   "metadata": {
    "slideshow": {
     "slide_type": "subslide"
    },
    "tags": []
   },
   "source": [
    "### Par dictionnaire <a class=\"anchor\" id=\"dictionnaire\"></a>"
   ]
  },
  {
   "cell_type": "markdown",
   "id": "a16e8a70-5eb0-4c88-94fb-0dfb269caf60",
   "metadata": {},
   "source": [
    "La (semi-)complétion automatique par dictionnaire est le première approche a avoir été utilisée sur téléphone.\n",
    "Elle est la plus simple, est la plus rapide avec peu de puissance si on a les bons dictionnaires."
   ]
  },
  {
   "cell_type": "markdown",
   "id": "8abb884c-4765-4575-a8f9-8f2a8151c781",
   "metadata": {},
   "source": [
    "Elle a été utiliser sur les télephones **T9** qui sont des téléphones avec peu de puissance de calculs.\n",
    "Sur ces téléphonezs on disposait de 9 touches pour un alphabet de 26 lettres."
   ]
  },
  {
   "cell_type": "markdown",
   "id": "b64156bf-9388-4184-b5bb-d4f759e91d27",
   "metadata": {
    "slideshow": {
     "slide_type": "notes"
    },
    "tags": []
   },
   "source": [
    "Plusieurs lettres étaient sur la même touche ce qui ralentissait l'écriture.\n",
    "Pour acceder a la touche c par exemple il fallait appuyer 3 fois sur la touche 1."
   ]
  },
  {
   "cell_type": "markdown",
   "id": "958ed6c9-ddca-4aac-a357-46577c2fbb88",
   "metadata": {},
   "source": [
    "C'est de là qu'est né le language sms.\n",
    "Il a donc fallut ajouter un autocompleteur pour écrire des mots complet sans pour autant avoir a appyer sur 50 touches."
   ]
  },
  {
   "cell_type": "markdown",
   "id": "b3c058b3-0f7c-447c-a342-853ded713c6d",
   "metadata": {},
   "source": []
  },
  {
   "cell_type": "markdown",
   "id": "c753176a-a564-4210-8d0c-57d02895c0df",
   "metadata": {
    "slideshow": {
     "slide_type": "subslide"
    },
    "tags": []
   },
   "source": [
    "### Par mot précememment saisis <a class=\"anchor\" id=\"predemment-saisis\"></a>"
   ]
  },
  {
   "cell_type": "markdown",
   "id": "0424909a-48dc-47d7-86ff-02133861af75",
   "metadata": {
    "slideshow": {
     "slide_type": "fragment"
    },
    "tags": []
   },
   "source": [
    "Les suggestions données à l'utilisateur peuvent se baser sur son propre vocabulaire.\n",
    "En effet on peut supposer que l'utilisateur sera amené à réutiliser des mots qu'il a déjà utilisé, la question sera donc de déterminer quels sont les mots qu'il réutilisera à l'avenir."
   ]
  },
  {
   "cell_type": "markdown",
   "id": "9f092d02-0fee-4d91-9551-36390f2974ea",
   "metadata": {
    "slideshow": {
     "slide_type": "notes"
    },
    "tags": []
   },
   "source": [
    "En moyenne une personne française utilise entre 300 et 5000 mots sur 32000 mots courrament utilisée.\n",
    "\n",
    "On peux donc se servir de ces statistiques pour avoir des dictionnaires plus petit (et donc avoir une recherche plus rapide) pour faire les corrections avec l'approche précédente.\n",
    "\n",
    "Cependant, connaissant les mot que la personnes utilise, on peut rechercher et afficher en priorité ces mots"
   ]
  },
  {
   "cell_type": "markdown",
   "id": "0e40a0d2-141e-4f7d-ba2f-c8cf7a672963",
   "metadata": {
    "slideshow": {
     "slide_type": "fragment"
    },
    "tags": []
   },
   "source": [
    "Mais cela pose un problème qui est la gestion des données et de la vie privée qui est aux coeur des débats en 2022.\n",
    "Il faut donc prendre cette approche avec des pincettes."
   ]
  },
  {
   "cell_type": "markdown",
   "id": "d6d5f2b3-9dc5-45b1-a876-e7cfd9bc5aa6",
   "metadata": {},
   "source": [
    "### Par les caratères de l'application <a class=\"anchor\" id=\"caractere-application\"></a>"
   ]
  },
  {
   "cell_type": "markdown",
   "id": "1ed44604-3071-473c-abbe-7a9e03ba6463",
   "metadata": {},
   "source": [
    "Certains termes ne sont utilisés que dans certains cas comme par exemple une adresse mail.\n",
    "Certains ne se trouvent pas dans le dictionnaire et donc un logiciel de complétion (semi-)automatique aura des difficultés à les corriger.\n",
    "\n",
    "On peux donc choisir d'ajouter des paramètres de l'application comme mots fesant partit du dictionnaire"
   ]
  },
  {
   "cell_type": "markdown",
   "id": "75074453-1aad-4016-b5ab-099fb43bd14d",
   "metadata": {
    "slideshow": {
     "slide_type": "notes"
    },
    "tags": []
   },
   "source": [
    "On peux prendre l'exemple des adresses mail dans un logiciel de méssagerie.\n",
    "Ou encore, les noms des contacts dans une application de messages pour téléphones."
   ]
  },
  {
   "cell_type": "markdown",
   "id": "73a5e011-1d53-4506-be8c-571c787d707a",
   "metadata": {},
   "source": [
    "Cela permet de gagner en éfficacité et de ne pas corriger des mots qui ne doivent pas l'être.\n",
    "Comme cité précédemment, lorsqu'on veux citer une personne on veux que le correcteur donne le bon nom et ne le corrige pas selon un mot dans le dictionnaire."
   ]
  },
  {
   "cell_type": "markdown",
   "id": "abe01754-a68b-4a59-8ddd-329775e5c1c6",
   "metadata": {},
   "source": [
    "### Par sémantique <a class=\"anchor\" id=\"semantique\"></a>"
   ]
  },
  {
   "cell_type": "markdown",
   "id": "129910ee-94c5-40da-9b02-00ba9ecf8a5b",
   "metadata": {},
   "source": [
    "Avec l'amélioration de la puissance et de la mémoire du matériel, les possibilitées pour rendre la complétion automatique plus éfficacces s'est aggrandie.\n",
    "Les approches ci-dessus permettent une complétion semi-automatique correct mais on peux allez plus loing.\n",
    "\n",
    "Dans cette partie, on verra quelles approches ont découlé de cette augmentation de puissances."
   ]
  },
  {
   "cell_type": "markdown",
   "id": "62d876b5-f5b9-423c-8a8c-af2ac91e8ad4",
   "metadata": {},
   "source": [
    "#### Intelligence Artificielle <a class=\"anchor\" id=\"intelligence-artificielle\"></a>"
   ]
  },
  {
   "cell_type": "markdown",
   "id": "746e24ae-0da2-4c92-a89e-164df42e5b3d",
   "metadata": {},
   "source": [
    "Une nouvelle approche qui a fait surface depuis quelques années est celle de l'intelligence artificielle.\n",
    "Le principe est d'entrainer une structure matémétique a produire un résultat par rapport a des entrées spécifiques.\n",
    "\n",
    "La complexité avec une langue est que la combinaison des mots est infinie, c'est donc un problème très compliqué a résoudre.\n",
    "De plus il faut une trés grande base de données et l'algorithme n'est pas adaptatif."
   ]
  },
  {
   "cell_type": "markdown",
   "id": "cf127214-8938-442a-86c5-62f65104ec4f",
   "metadata": {},
   "source": [
    "Une fois l'algorithme entrainée, il devient difficile de lui faire changer ses réponses.\n",
    "De plus, des problèmes sur les types d'entrées et de sorties se posent:\n",
    "* Faut-il prendre des mots en entrées et sortie, alors le programme ne pourras pas utiliser de nouveaux mots ou il faut le réentrainer constamment.\n",
    "* Faut-il prendre des lettres, mais alors les résultas serons moin précis et les mots produits n'éxistent peux être pas.\n",
    "\n",
    "Des questions qui sont compliquées a répondre."
   ]
  },
  {
   "cell_type": "markdown",
   "id": "9f45a7eb-4933-4ccf-86f5-6bb6e74ae459",
   "metadata": {},
   "source": [
    "#### Algorithme type GPT-3 <a class=\"anchor\" id=\"intelligence-artificielle-GPT3\"></a>"
   ]
  },
  {
   "cell_type": "markdown",
   "id": "3909025e-83af-4738-a69a-44c98e0133d2",
   "metadata": {},
   "source": [
    "L'algorithme GPT est développé par *Open IA*.\n",
    "Ajourd'hui l'un des meilleur completeur automatique de phrases (voir plus).\n",
    "\n",
    "Leur algorithme utilise l'intéligence artificielle comme citée ci-dessus, mais il ont une différence importante.\n",
    "Cet algorithme va tenter de classifier les mots avant de les envoyer dans le réseau de neurones."
   ]
  },
  {
   "cell_type": "markdown",
   "id": "1549201a-28ae-47d1-9be0-79ef42b5b24b",
   "metadata": {
    "slideshow": {
     "slide_type": "notes"
    },
    "tags": []
   },
   "source": [
    "On va ainsi pouvoir classer les différents types de mots comme:\n",
    "    * Les mots qui ne portent pas de sens comme les: de, la, les, ou, etc.\n",
    "    * Les mots qui correspondent a des organisations, les noms de personnes.\n",
    "    * Les verbes, les adjectifs, etc.\n",
    "Tous cela va permettre ensuite au réseau neronal de comprendre les sens et de comprendre la phrase."
   ]
  },
  {
   "cell_type": "markdown",
   "id": "9912aa8e-336e-4b42-a762-f77f0c503281",
   "metadata": {},
   "source": [
    "Le fait de comprendre la phrase va donc permettre de produire le mot suivant, la fin de la phrase ou plus.\n",
    "L'algorithme GPT peux rédiger un paragraphe complet en partant de quelques lignes de contexte ou peux produire un texte selons les recommandations que vous lui faites."
   ]
  },
  {
   "cell_type": "markdown",
   "id": "2802acf7-1b72-43f1-8e7e-10aad762665a",
   "metadata": {
    "slideshow": {
     "slide_type": "notes"
    },
    "tags": []
   },
   "source": [
    "Cette algorithme est devenu si puissant qu'il est intégré a d'autres logiciels de complétion automatique voir de jeux.\n",
    "On peut citer parmit les logiciels qui l'utilise:\n",
    "* IA Dongeon\n",
    "* Github copilot\n",
    "* Des chatbots"
   ]
  },
  {
   "cell_type": "markdown",
   "id": "7539963b-96f0-4c2d-ae76-d6f708e8ae8f",
   "metadata": {},
   "source": [
    "## Les algorithmes de calculs de distance <a class=\"anchor\" id=\"calcul-distance\"></a>"
   ]
  },
  {
   "cell_type": "markdown",
   "id": "8fcd7f8b-2807-4e8d-a26d-a46a50148bb3",
   "metadata": {
    "slideshow": {
     "slide_type": "slide"
    },
    "tags": []
   },
   "source": [
    "### Setup"
   ]
  },
  {
   "cell_type": "code",
   "execution_count": 1,
   "id": "cb75432d-8cc9-43a6-a7cc-abcf5f04686e",
   "metadata": {
    "slideshow": {
     "slide_type": "fragment"
    },
    "tags": []
   },
   "outputs": [],
   "source": [
    "%load_ext lab_black\n",
    "%matplotlib inline\n",
    "from IPython.display import display, HTML\n",
    "from ipywidgets import widgets, interact, interactive, fixed, interact_manual\n",
    "import pandas as pd\n",
    "import data.background as utils\n",
    "import random\n",
    "\n",
    "utils.setWidgetTextSize(2)"
   ]
  },
  {
   "cell_type": "code",
   "execution_count": 2,
   "id": "20efe505-ea1e-4cdd-8928-6caa0e5e7e80",
   "metadata": {
    "slideshow": {
     "slide_type": "fragment"
    },
    "tags": []
   },
   "outputs": [
    {
     "data": {
      "application/vnd.jupyter.widget-view+json": {
       "model_id": "99212ba0af354cebb71c57d15a7c2c49",
       "version_major": 2,
       "version_minor": 0
      },
      "text/plain": [
       "IntProgress(value=0, description='Loading:', max=4, style=ProgressStyle(bar_color='blue'))"
      ]
     },
     "metadata": {},
     "output_type": "display_data"
    },
    {
     "name": "stdout",
     "output_type": "stream",
     "text": [
      "Nombre de mots dans le dictionnaire:  336437\n"
     ]
    }
   ],
   "source": [
    "filename = \"data/liste.de.mots.francais.frgut.csv\"\n",
    "#Lien vers le site qui nous a permis d'avoir la base de donnée http://www.pallier.org/liste-de-mots-francais.html\n",
    "\n",
    "word_dict = utils.import_data(filename)\n",
    "word_dict = utils.delete_useless_word_in_pd(word_dict)\n",
    "\n",
    "utils.getPredictions = utils.getPredictionsFromDict(word_dict)\n",
    "utils.getPredictionParamFunct = utils.getPredictionsFromDictForPreParamFunction(\n",
    "    word_dict\n",
    ")\n",
    "\n",
    "print(\"Nombre de mots dans le dictionnaire: \", len(word_dict))\n",
    "\n",
    "TestWord = \"abouhcemsnr\""
   ]
  },
  {
   "cell_type": "markdown",
   "id": "1e811a94-d700-4cfc-8850-018a6ee88116",
   "metadata": {
    "slideshow": {
     "slide_type": "slide"
    },
    "tags": []
   },
   "source": [
    "### Distance de Levenstein\n",
    "\n",
    "Cet algorithme permet de calculer la distance entre deux mots.\n",
    "Il n'as que 3 opérations de base qui sont:\n",
    "* l'ajout\n",
    "* la supperssion\n",
    "* la substitution\n",
    "\n",
    "On construit un tableau avec ces règles et pour chaque opérartions on ajoute 1 a la case.\n",
    "\n",
    "<div>\n",
    "<img src=\"attachment:cb1e79f6-2fe5-422a-9636-7e455b2d0cef.png\" alt=\"distance de levenstein\" title=\"distance de levenstein\" width=\"500\" height=\"500\">\n",
    "</div>"
   ]
  },
  {
   "cell_type": "code",
   "execution_count": 3,
   "id": "bb9f1942-1dff-4fe1-bcff-d91a14ae2fab",
   "metadata": {
    "slideshow": {
     "slide_type": "subslide"
    },
    "tags": []
   },
   "outputs": [],
   "source": [
    "def DistanceDeLevenshtein(c1, show_table=False):\n",
    "\n",
    "    width = len(c1) + 1\n",
    "\n",
    "    def funct(c2):\n",
    "        D = []\n",
    "        height = len(c2) + 1\n",
    "        for i in range(0, height):\n",
    "            D.append([0] * width)\n",
    "            D[i][0] = i\n",
    "        for j in range(1, width):\n",
    "            D[0][j] = j\n",
    "\n",
    "        for i in range(1, height):\n",
    "            for j in range(1, width):\n",
    "                coutSubtitution = 1\n",
    "                if c1[j - 1] == c2[i - 1]:\n",
    "                    coutSubtitution = 0\n",
    "                D[i][j] = min(\n",
    "                    D[i - 1][j] + 1, D[i][j - 1] + 1, D[i - 1][j - 1] + coutSubtitution\n",
    "                )\n",
    "        if show_table:\n",
    "            utils.showLevensteinTable(\"Tableau de Levenshtein\", c1, c2, D)\n",
    "\n",
    "        return D[-1][-1]\n",
    "\n",
    "    return funct"
   ]
  },
  {
   "cell_type": "code",
   "execution_count": 4,
   "id": "052e141e-3096-4ec8-8160-32921d08d454",
   "metadata": {
    "slideshow": {
     "slide_type": "subslide"
    },
    "tags": []
   },
   "outputs": [
    {
     "data": {
      "image/png": "[encoded data removed]",
      "text/plain": [
       "<Figure size 500x600 with 1 Axes>"
      ]
     },
     "metadata": {
      "needs_background": "light"
     },
     "output_type": "display_data"
    },
    {
     "data": {
      "text/plain": [
       "4"
      ]
     },
     "execution_count": 4,
     "metadata": {},
     "output_type": "execute_result"
    }
   ],
   "source": [
    "DistanceDeLevenshtein(\"chouruot\", show_table=True)(\"choucroute\")"
   ]
  },
  {
   "cell_type": "code",
   "execution_count": 5,
   "id": "86b69f22-dd2b-48fd-a11f-b6dea8558736",
   "metadata": {
    "slideshow": {
     "slide_type": "subslide"
    },
    "tags": []
   },
   "outputs": [
    {
     "name": "stdout",
     "output_type": "stream",
     "text": [
      "DistanceDeLevenshtein as mis 0.599897 secondes pour s'executer\n",
      "Prediction for word:  abouhcemsnr\n",
      "           ortho  affinity\n",
      "851  abouchement         4\n",
      "936   aboutement         4\n",
      "562    aboiement         5\n"
     ]
    }
   ],
   "source": [
    "pred, time_elapsed = utils.getPredictions(DistanceDeLevenshtein, TestWord, TestWord[:2])\n",
    "print(\n",
    "    \"{0} as mis {1:f} secondes pour s'executer\".format(\n",
    "        (DistanceDeLevenshtein.__name__), time_elapsed\n",
    "    )\n",
    ")\n",
    "\n",
    "print(\"Prediction for word: \", TestWord)\n",
    "print(pred)"
   ]
  },
  {
   "cell_type": "markdown",
   "id": "6974b335-899b-4a06-8035-5c3d8a1a4b56",
   "metadata": {
    "slideshow": {
     "slide_type": "slide"
    },
    "tags": []
   },
   "source": [
    "### Distance Damerau-Levenstein\n",
    "\n",
    "Cet algorithme reprend les mêmes opérations que celui de levenstein mais implémente aussi inversion entre deux lettres cote à cote.\n",
    "Toutes ces opérations correspondent a 80% des fautes d'orthographes humaines."
   ]
  },
  {
   "cell_type": "code",
   "execution_count": 6,
   "id": "296551de-a0c4-45f5-9387-e5464f40bb24",
   "metadata": {
    "slideshow": {
     "slide_type": "subslide"
    },
    "tags": []
   },
   "outputs": [],
   "source": [
    "def DistanceDeDamerauLevenshtein(c1, show_table=False):\n",
    "\n",
    "    width = len(c1) + 1\n",
    "\n",
    "    def funct(c2):\n",
    "        D = []\n",
    "        height = len(c2) + 1\n",
    "        for i in range(0, height):\n",
    "            D.append([0] * width)\n",
    "            D[i][0] = i\n",
    "        for j in range(1, width):\n",
    "            D[0][j] = j\n",
    "\n",
    "        for i in range(1, height):\n",
    "            for j in range(1, width):\n",
    "                coutSubtitution = 1\n",
    "                if c1[j - 1] == c2[i - 1]:\n",
    "                    coutSubtitution = 0\n",
    "                D[i][j] = min(\n",
    "                    D[i - 1][j] + 1, D[i][j - 1] + 1, D[i - 1][j - 1] + coutSubtitution\n",
    "                )\n",
    "                if (\n",
    "                    i > 0\n",
    "                    and j > 0\n",
    "                    and c1[j - 1] == c2[i - 2]\n",
    "                    and c1[j - 2] == c2[i - 1]\n",
    "                ):\n",
    "                    D[i][j] = min(D[i][j], D[i - 2][j - 2] + coutSubtitution)\n",
    "        if show_table:\n",
    "            utils.showLevensteinTable(\"Tableau de Damerau-Levenshtein\", c1, c2, D)\n",
    "        return D[-1][-1]\n",
    "\n",
    "    return funct"
   ]
  },
  {
   "cell_type": "code",
   "execution_count": 7,
   "id": "7d7cef09-4bbb-422e-98fa-8dc8d9c44488",
   "metadata": {
    "slideshow": {
     "slide_type": "subslide"
    },
    "tags": []
   },
   "outputs": [
    {
     "data": {
      "image/png": "[encoded data removed]",
      "text/plain": [
       "<Figure size 500x600 with 1 Axes>"
      ]
     },
     "metadata": {
      "needs_background": "light"
     },
     "output_type": "display_data"
    },
    {
     "data": {
      "text/plain": [
       "3"
      ]
     },
     "execution_count": 7,
     "metadata": {},
     "output_type": "execute_result"
    }
   ],
   "source": [
    "DistanceDeDamerauLevenshtein(\"chouruot\", show_table=True)(\"choucroute\")"
   ]
  },
  {
   "cell_type": "code",
   "execution_count": 8,
   "id": "09c48f37-6a00-486f-b259-3d767bd5fcf6",
   "metadata": {
    "slideshow": {
     "slide_type": "subslide"
    },
    "tags": []
   },
   "outputs": [
    {
     "name": "stdout",
     "output_type": "stream",
     "text": [
      "DistanceDeDamerauLevenshtein as mis 0.501628 secondes pour s'executer\n",
      "Prediction for word:  abouhcemsnr\n",
      "            ortho  affinity\n",
      "851   abouchement         3\n",
      "852  abouchements         4\n",
      "853     abouchent         4\n"
     ]
    }
   ],
   "source": [
    "pred, time_elapsed = utils.getPredictions(\n",
    "    DistanceDeDamerauLevenshtein, TestWord, TestWord[:2]\n",
    ")\n",
    "\n",
    "print(\n",
    "    \"{0} as mis {1:f} secondes pour s'executer\".format(\n",
    "        (DistanceDeDamerauLevenshtein.__name__), time_elapsed\n",
    "    )\n",
    ")\n",
    "\n",
    "print(\"Prediction for word: \", TestWord)\n",
    "print(pred)"
   ]
  },
  {
   "cell_type": "markdown",
   "id": "2a5a8d15-8dbe-4381-8676-23866d68b64e",
   "metadata": {
    "slideshow": {
     "slide_type": "slide"
    },
    "tags": []
   },
   "source": [
    "### Distance de Jaro\n"
   ]
  },
  {
   "cell_type": "code",
   "execution_count": 9,
   "id": "e8df48ef-c48a-42ee-b41c-23a4fe84949b",
   "metadata": {
    "slideshow": {
     "slide_type": "subslide"
    },
    "tags": []
   },
   "outputs": [],
   "source": [
    "def DistanceDeJaro(c1, show_table=False):\n",
    "    len_c1 = len(c1)\n",
    "\n",
    "    def funct(c2):\n",
    "        len_c2 = len(c2)\n",
    "        if c1 == c2:\n",
    "            return 1\n",
    "        limit = int(max(len_c1, len_c2) / 2) - 1\n",
    "        match = 0\n",
    "        c1_match = [0] * len_c1\n",
    "        c2_match = [0] * len_c2\n",
    "        for i in range(len_c1):\n",
    "            for j in range(max(0, i - limit), min(len_c2, i + limit + 1)):\n",
    "                if c1[i] == c2[j] and not c2_match[j]:\n",
    "                    c1_match[i], c2_match[j] = 1, 1\n",
    "                    match += 1\n",
    "                    break\n",
    "\n",
    "        if show_table:\n",
    "            utils.showJaroTable(\"Table de Jaro\", c1, c2)\n",
    "        if match == 0:\n",
    "            return 0\n",
    "        t = 0\n",
    "        point = 0\n",
    "        for i in range(len_c1):\n",
    "            if c1_match[i]:\n",
    "                while not c2_match[point]:\n",
    "                    point += 1\n",
    "                if c1[i] != c2[point]:\n",
    "                    t += 1\n",
    "                point += 1\n",
    "        t /= 2\n",
    "        return (\n",
    "            (match / float(len_c1))\n",
    "            + (match / float(len_c2))\n",
    "            + ((match - t) / float(match))\n",
    "        ) / 3.0\n",
    "\n",
    "    return funct"
   ]
  },
  {
   "cell_type": "code",
   "execution_count": 10,
   "id": "df355cf6-f697-4e50-82d2-ebb988b08b54",
   "metadata": {
    "slideshow": {
     "slide_type": "subslide"
    },
    "tags": []
   },
   "outputs": [
    {
     "data": {
      "image/png": "[encoded data removed]",
      "text/plain": [
       "<Figure size 900x650 with 2 Axes>"
      ]
     },
     "metadata": {
      "needs_background": "light"
     },
     "output_type": "display_data"
    },
    {
     "data": {
      "text/plain": [
       "0.8190235690235691"
      ]
     },
     "execution_count": 10,
     "metadata": {},
     "output_type": "execute_result"
    }
   ],
   "source": [
    "DistanceDeJaro(\"explication\", show_table=True)(\"exlpicetiens\")"
   ]
  },
  {
   "cell_type": "code",
   "execution_count": 11,
   "id": "20ac8d5e-551a-4d99-ad86-8113e17b6f35",
   "metadata": {
    "slideshow": {
     "slide_type": "subslide"
    },
    "tags": []
   },
   "outputs": [
    {
     "name": "stdout",
     "output_type": "stream",
     "text": [
      "DistanceDeJaro as mis 0.472085 secondes pour s'executer\n",
      "Prediction for word:  abouhcemsnr\n",
      "           ortho  affinity\n",
      "865  aboucherons  0.127273\n",
      "854     aboucher  0.132576\n",
      "867     abouches  0.132576\n"
     ]
    }
   ],
   "source": [
    "pred, time_elapsed = utils.getPredictions(\n",
    "    DistanceDeJaro, TestWord, TestWord[:2], mofier_funct=lambda x: 1 - x\n",
    ")\n",
    "\n",
    "print(\n",
    "    \"{0} as mis {1:f} secondes pour s'executer\".format(\n",
    "        (DistanceDeJaro.__name__), time_elapsed\n",
    "    )\n",
    ")\n",
    "\n",
    "print(\"Prediction for word: \", TestWord)\n",
    "print(pred)"
   ]
  },
  {
   "cell_type": "markdown",
   "id": "7340c1ed-af1e-4e30-a690-a21926a63767",
   "metadata": {
    "slideshow": {
     "slide_type": "slide"
    },
    "tags": []
   },
   "source": [
    "### Distance de Jaro-Winker\n"
   ]
  },
  {
   "cell_type": "code",
   "execution_count": 12,
   "id": "596ecaf4-02a9-4d81-a226-21a5b5e43c8c",
   "metadata": {
    "slideshow": {
     "slide_type": "subslide"
    },
    "tags": []
   },
   "outputs": [],
   "source": [
    "def DistanceDeJaroWinkler(c1, threshold=0.7, p=0.1, show_table=False):\n",
    "    fDistanceDeJaro = DistanceDeJaro(c1)\n",
    "\n",
    "    def funct(c2):\n",
    "        dj = fDistanceDeJaro(c2)\n",
    "\n",
    "        l = 0\n",
    "        pos = 0\n",
    "        if dj > threshold:\n",
    "            for i in range(min(len(c1), len(c2))):\n",
    "                if c1[l] != c2[l]:\n",
    "                    break\n",
    "                if l >= 4:\n",
    "                    break\n",
    "                l += 1\n",
    "\n",
    "        if show_table:\n",
    "            utils.showJaroTable(\n",
    "                \"Table de Jaro-Winkler\",\n",
    "                c1,\n",
    "                c2,\n",
    "                Winkler=True,\n",
    "                p=p,\n",
    "                threshold=threshold,\n",
    "                l=l,\n",
    "            )\n",
    "\n",
    "        return dj + (l * p * (1 - dj))\n",
    "\n",
    "    return funct"
   ]
  },
  {
   "cell_type": "code",
   "execution_count": 13,
   "id": "5859f359-ba61-4dce-b5db-21f0c7d289aa",
   "metadata": {
    "slideshow": {
     "slide_type": "subslide"
    },
    "tags": []
   },
   "outputs": [
    {
     "data": {
      "image/png": "[encoded data removed]",
      "text/plain": [
       "<Figure size 900x650 with 2 Axes>"
      ]
     },
     "metadata": {
      "needs_background": "light"
     },
     "output_type": "display_data"
    },
    {
     "data": {
      "text/plain": [
       "0.8552188552188553"
      ]
     },
     "execution_count": 13,
     "metadata": {},
     "output_type": "execute_result"
    }
   ],
   "source": [
    "DistanceDeJaroWinkler(\"explication\", show_table=True)(\"exlpicetiens\")"
   ]
  },
  {
   "cell_type": "code",
   "execution_count": 14,
   "id": "76ca7943-e36a-44ec-a757-6a34fbd13b34",
   "metadata": {
    "slideshow": {
     "slide_type": "subslide"
    },
    "tags": []
   },
   "outputs": [
    {
     "name": "stdout",
     "output_type": "stream",
     "text": [
      "DistanceDeJaroWinkler as mis 0.494885 secondes pour s'executer\n",
      "Prediction for word:  abouhcemsnr\n",
      "           ortho  affinity\n",
      "865  aboucherons  0.076364\n",
      "854     aboucher  0.079545\n",
      "867     abouches  0.079545\n"
     ]
    }
   ],
   "source": [
    "pred, time_elapsed = utils.getPredictions(\n",
    "    DistanceDeJaroWinkler, TestWord, TestWord[:2], mofier_funct=lambda x: 1 - x\n",
    ")\n",
    "print(\n",
    "    \"{0} as mis {1:f} secondes pour s'executer\".format(\n",
    "        (DistanceDeJaroWinkler.__name__), time_elapsed\n",
    "    )\n",
    ")\n",
    "print(\"Prediction for word: \", TestWord)\n",
    "print(pred)"
   ]
  },
  {
   "cell_type": "code",
   "execution_count": 15,
   "id": "9fbf79de-a502-44ec-b691-fb5a0849fbc6",
   "metadata": {
    "hide_input": true,
    "slideshow": {
     "slide_type": "slide"
    },
    "tags": []
   },
   "outputs": [
    {
     "data": {
      "application/vnd.jupyter.widget-view+json": {
       "model_id": "8183e0be8ba54f5aadd4f9aa5f3444b4",
       "version_major": 2,
       "version_minor": 0
      },
      "text/plain": [
       "Text(value='', _dom_classes=('custom-size',))"
      ]
     },
     "metadata": {},
     "output_type": "display_data"
    },
    {
     "data": {
      "application/vnd.jupyter.widget-view+json": {
       "model_id": "65c4a2d71e964a5192e474a04a2ecba2",
       "version_major": 2,
       "version_minor": 0
      },
      "text/plain": [
       "GridspecLayout(children=(Label(value='Levenshtein', layout=Layout(grid_area='widget001'), _dom_classes=('custo…"
      ]
     },
     "metadata": {},
     "output_type": "display_data"
    }
   ],
   "source": [
    "utils.displayComparaisonInterface(\n",
    "    utils.getPredictions,\n",
    "    DistanceDeLevenshtein,\n",
    "    DistanceDeDamerauLevenshtein,\n",
    "    DistanceDeJaro,\n",
    "    DistanceDeJaroWinkler,\n",
    ")"
   ]
  },
  {
   "cell_type": "markdown",
   "id": "25337929-ca39-47f9-9696-80659471dff7",
   "metadata": {},
   "source": [
    "### Nos modifications"
   ]
  },
  {
   "cell_type": "code",
   "execution_count": 16,
   "id": "837b20dd-2f8d-45ae-995d-918c54711db5",
   "metadata": {},
   "outputs": [],
   "source": [
    "def DamerauLevenshteinReglable(\n",
    "    c1, costAdd=1, costSuppr=1, costSubst=1, costTransp=1, multProxi=1\n",
    "):\n",
    "    width = len(c1) + 1\n",
    "\n",
    "    def funct(c2):\n",
    "        D = []\n",
    "        height = len(c2) + 1\n",
    "        for i in range(0, height):\n",
    "            D.append([0] * width)\n",
    "            D[i][0] = i\n",
    "        for j in range(1, width):\n",
    "            D[0][j] = j\n",
    "\n",
    "        for i in range(1, height):\n",
    "            for j in range(1, width):\n",
    "                coutSubtitution = 1\n",
    "                if c1[j - 1] == c2[i - 1]:\n",
    "                    coutSubtitution = 0\n",
    "                elif c2[i - 1] in utils.azerty_around_letter[c1[j - 1]]:\n",
    "                    coutSubtitution *= multProxi\n",
    "                D[i][j] = min(\n",
    "                    D[i - 1][j] + costSuppr,\n",
    "                    D[i][j - 1] + costAdd,\n",
    "                    D[i - 1][j - 1] + coutSubtitution * costSubst,\n",
    "                )\n",
    "                if (\n",
    "                    i > 0\n",
    "                    and j > 0\n",
    "                    and c1[j - 1] == c2[i - 2]\n",
    "                    and c1[j - 2] == c2[i - 1]\n",
    "                ):\n",
    "                    D[i][j] = min(\n",
    "                        D[i][j], D[i - 2][j - 2] + coutSubtitution * costTransp\n",
    "                    )\n",
    "        return D[-1][-1]\n",
    "\n",
    "    return funct"
   ]
  },
  {
   "cell_type": "code",
   "execution_count": 17,
   "id": "7267747a-adb6-496e-b205-f035df06f75f",
   "metadata": {},
   "outputs": [
    {
     "data": {
      "text/plain": [
       "1"
      ]
     },
     "execution_count": 17,
     "metadata": {},
     "output_type": "execute_result"
    }
   ],
   "source": [
    "DamerauLevenshteinReglable(\n",
    "    \"retame\", costAdd=1, costSuppr=1, costSubst=1, costTransp=1, multProxi=1\n",
    ")(\"ertame\")"
   ]
  },
  {
   "cell_type": "raw",
   "id": "3f482bb7-3b67-4238-9616-5e9490b74119",
   "metadata": {
    "slideshow": {
     "slide_type": "notes"
    },
    "tags": []
   },
   "source": [
    "costAdd=2, costSuppr=2, costSubst=3, costTransp=1, multProxi=1"
   ]
  },
  {
   "cell_type": "code",
   "execution_count": 18,
   "id": "69ac2755-aa8a-4c30-a5a3-1b384c573758",
   "metadata": {},
   "outputs": [
    {
     "name": "stdout",
     "output_type": "stream",
     "text": [
      "DistanceDeJaroWinkler as mis 1.577250 secondes pour s'executer\n",
      "Prediction for word:  chouruot\n",
      "          ortho  affinity\n",
      "52113  chourava         3\n",
      "52128  chourave         3\n",
      "52130  chouravé         3\n"
     ]
    }
   ],
   "source": [
    "TestWord = \"chouruot\"\n",
    "pred, time_elapsed = utils.getPredictionParamFunct(\n",
    "    DamerauLevenshteinReglable(\n",
    "        TestWord, costAdd=2, costSuppr=2, costSubst=1, costTransp=2, multProxi=2\n",
    "    ),\n",
    "    TestWord[:2],\n",
    ")\n",
    "print(\n",
    "    \"{0} as mis {1:f} secondes pour s'executer\".format(\n",
    "        (DistanceDeJaroWinkler.__name__), time_elapsed\n",
    "    )\n",
    ")\n",
    "print(\"Prediction for word: \", TestWord)\n",
    "print(pred)"
   ]
  },
  {
   "cell_type": "markdown",
   "id": "bbc1617b-461c-4e2b-96be-402703b7b278",
   "metadata": {},
   "source": [
    "### Chaine de markov"
   ]
  },
  {
   "cell_type": "code",
   "execution_count": 19,
   "id": "3cee5afb-2ea9-4b12-a4af-51592602ff29",
   "metadata": {},
   "outputs": [
    {
     "name": "stdout",
     "output_type": "stream",
     "text": [
      "8280\n"
     ]
    },
    {
     "data": {
      "application/vnd.jupyter.widget-view+json": {
       "model_id": "b4f95eec25804c47aea62b62942e1403",
       "version_major": 2,
       "version_minor": 0
      },
      "text/plain": [
       "IntProgress(value=0, bar_style='info', description='Create markov model:', max=8280, style=ProgressStyle(bar_c…"
      ]
     },
     "metadata": {},
     "output_type": "display_data"
    }
   ],
   "source": [
    "with open(\"data/train_text.txt\", \"r\") as f:\n",
    "    data = f.read()\n",
    "sentences = utils.data_file_to_sentences(data)\n",
    "\n",
    "max_order = 5\n",
    "markov_model = []\n",
    "for i in range(max_order):\n",
    "    markov_model.append(dict())\n",
    "\n",
    "pbar = utils.create_progress_bar_training_markov(sentences)\n",
    "\n",
    "for s in sentences:\n",
    "    words = s.split(\" \")\n",
    "    words = utils.remove_empty_words(words)\n",
    "    if len(words) == 0:\n",
    "        continue\n",
    "    for i in range(len(words)):\n",
    "        for j in range(0, min(i, max_order)):\n",
    "            utils.update_occ(\n",
    "                markov_model[j],\n",
    "                \" \".join([words[i - k] for k in range(j + 1, 0, -1)]),\n",
    "                words[i],\n",
    "            )\n",
    "    pbar.value += len(words)"
   ]
  },
  {
   "cell_type": "code",
   "execution_count": 20,
   "id": "ecafb5f5-61fc-46af-ae7b-a6d8f6faf695",
   "metadata": {},
   "outputs": [
    {
     "name": "stdout",
     "output_type": "stream",
     "text": [
      "agglomération de montpellier la choisit\n",
      "Chaine de markov d'ordre 5: agglomération de montpellier la choisit\n",
      "pour : 100.00%\n",
      "\n",
      "Chaine de markov d'ordre 4: de montpellier la choisit\n",
      "pour : 100.00%\n",
      "\n",
      "Chaine de markov d'ordre 3: montpellier la choisit\n",
      "pour : 100.00%\n",
      "\n",
      "Chaine de markov d'ordre 2: la choisit\n",
      "pour : 100.00%\n",
      "\n",
      "Chaine de markov d'ordre 1: choisit\n",
      "le : 50.00%\n",
      "pour : 50.00%\n",
      "\n"
     ]
    }
   ],
   "source": [
    "text = random.choice(list(markov_model[max_order - 1].keys()))\n",
    "# text = \"mais ne boudons pas\"\n",
    "\n",
    "print(text)\n",
    "text = text.split(\" \")\n",
    "text_len = len(text)\n",
    "for i in range(min(len(text), max_order), 0, -1):\n",
    "    t = \" \".join(text[-i:])\n",
    "    print(\"Chaine de markov d'ordre {}: {}\".format(i, t))\n",
    "    if t in markov_model[i - 1].keys():\n",
    "        s = sorted(markov_model[i - 1][t].items(), key=lambda item: item[1])\n",
    "        total = sum(markov_model[i - 1][t].values())\n",
    "        for j in range(0, min(len(s), 5)):\n",
    "            print(\"{} : {:.2f}%\".format(s[j][0], (s[j][1] / total) * 100))\n",
    "    else:\n",
    "        print(\"Aucune proposition disponible\")\n",
    "    print()"
   ]
  },
  {
   "cell_type": "code",
   "execution_count": 21,
   "id": "5d9f9007-255c-4d3a-b150-ec29a1583436",
   "metadata": {},
   "outputs": [
    {
     "name": "stdout",
     "output_type": "stream",
     "text": [
      "agglomération de montpellier la choisit pour réaliser le design de sa femme dans la foulée\n"
     ]
    }
   ],
   "source": [
    "# generate at most 100 words:\n",
    "for i in range(200):\n",
    "\n",
    "    last_idx = text_len - 1\n",
    "\n",
    "    tmp = text[last_idx - 1] + \" \" + text[last_idx]\n",
    "    if tmp in markov_model[1]:\n",
    "        new_word = utils.gen_random_from_tbl(markov_model[1][tmp])\n",
    "    else:\n",
    "        # fall-back to 1st order\n",
    "        tmp2 = text[last_idx]\n",
    "        if tmp2 not in markov_model[0]:\n",
    "            # dead-end\n",
    "            break\n",
    "        new_word = utils.gen_random_from_tbl(markov_model[0][tmp2])\n",
    "\n",
    "    text.append(new_word)\n",
    "    text_len = text_len + 1\n",
    "\n",
    "print(\" \".join(text))"
   ]
  }
 ],
 "metadata": {
  "celltoolbar": "Slideshow",
  "kernelspec": {
   "display_name": "Python 3 (ipykernel)",
   "language": "python",
   "name": "python3"
  },
  "language_info": {
   "codemirror_mode": {
    "name": "ipython",
    "version": 3
   },
   "file_extension": ".py",
   "mimetype": "text/x-python",
   "name": "python",
   "nbconvert_exporter": "python",
   "pygments_lexer": "ipython3",
   "version": "3.8.10"
  },
  "rise": {
   "auto_select": "code",
   "auto_select_fragment": true,
   "progress": true,
   "scroll": true,
   "slideNumber": "c/t",
   "start_slideshow_at": "beginning",
   "theme": "beige"
  },
  "toc-autonumbering": false,
  "toc-showcode": false,
  "toc-showmarkdowntxt": false,
  "toc-showtags": false,
  "traitlet_configuration": {
   "resources": {
    "reveal": {
     "auto_select": "code",
     "auto_select_fragment": true,
     "progress": true,
     "scroll": true,
     "start_slideshow_at": "beginning",
     "theme": "beige"
    }
   }
  },
  "widgets": {
   "application/vnd.jupyter.widget-state+json": {
    "state": {},
    "version_major": 2,
    "version_minor": 0
   }
  }
 },
 "nbformat": 4,
 "nbformat_minor": 5
}
