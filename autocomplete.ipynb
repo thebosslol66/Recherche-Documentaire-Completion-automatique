{
 "cells": [
  {
   "cell_type": "markdown",
   "id": "34b01b51-d450-47a0-96ae-a112c5a114d7",
   "metadata": {
    "slideshow": {
     "slide_type": "slide"
    },
    "tags": []
   },
   "source": [
    "# La (semi-)complétion automatique\n",
    "\n",
    "**Auteurs:**\n",
    "* Cuenin Tommy\n",
    "* Grosdidier Alphée\n",
    "\n",
    "<div>\n",
    "<img src=\"https://raw.github.com/thebosslol66/Recherche-Documentaire-Completion-automatique/master/img/nom_universite.png\" alt=\"Université de franche-comté\" title=\"Université de franche-comté\" width=\"310\" height=\"223\" style=\"display: inline;\">\n",
    "<img src=\"https://raw.githubusercontent.com/thebosslol66/Recherche-Documentaire-Completion-automatique/master/img/reseauFigure.png\" alt=\"Réseau figure\" title=\"Réseau figure\" width=\"300\" height=\"86\" style=\"float:right;\">\n",
    "</div>"
   ]
  },
  {
   "cell_type": "markdown",
   "id": "bccaa1fb-30d1-4d75-9d70-201952e23aca",
   "metadata": {
    "slideshow": {
     "slide_type": "slide"
    },
    "tags": []
   },
   "source": [
    "### Table des matières:\n",
    "* [Les approches utilisées](#appproches)\n",
    "    * [Introduction](#introduction)\n",
    "    * [Histoire](#histoire)\n",
    "    * [Par dictionnaire](#dictionnaire)\n",
    "    * [Par mot précedemment saisis](#predemment-saisis)\n",
    "    * [Par les caractères de l'application](#caractere-application)\n",
    "    * [Par sémantique](#semantique)\n",
    "* [Les algorithmes de calcul de distance](#calcul-distance)\n",
    "    * [Initialisation des scripts](#script-init)\n",
    "    * [Distance de Levenshtein](#calcul-distance-levenshtein)\n",
    "    * [Distance Damerau-Levenshtein](#calcul-distance-damerau-levenshtein)\n",
    "    * [Distance de Jaro](#calcul-distance-jaro)\n",
    "    * [Distance de Jaro-Winkler](#calcul-distance-jaro-winkler)\n",
    "    * [Un point de comparaison](#calcul-comparaison)\n",
    "    * [Nos modifications](#calcul-mofifications)\n",
    "* [Chaînes de Markov](#chaine-markov)\n",
    "* [Pour conclure](#conclusion)"
   ]
  },
  {
   "cell_type": "markdown",
   "id": "1af343a1-8960-4ada-b40e-317df581e696",
   "metadata": {
    "jp-MarkdownHeadingCollapsed": true,
    "slideshow": {
     "slide_type": "slide"
    },
    "tags": []
   },
   "source": [
    "## Les approches utilisées <a class=\"anchor\" id=\"appproches\"></a>"
   ]
  },
  {
   "cell_type": "markdown",
   "id": "56cbf69f-3fdc-44ca-b21d-a6cdd6369b79",
   "metadata": {
    "jp-MarkdownHeadingCollapsed": true,
    "slideshow": {
     "slide_type": "fragment"
    },
    "tags": []
   },
   "source": [
    "### Introduction <a class=\"anchor\" id=\"introduction\"></a>"
   ]
  },
  {
   "cell_type": "markdown",
   "id": "e199df42-3271-44b7-95c7-45b754ca9798",
   "metadata": {
    "slideshow": {
     "slide_type": "fragment"
    },
    "tags": []
   },
   "source": [
    "La semi-complétion automatique est une fontionnalité informatique permettant à l'utilisateur de limiter la quantité d'information qu'il saisie avec son clavier , en se voyant proposer un complément qui pourrait convenir avec la chaîne de caractères qu'il a commencé à saisir.\n",
    "\n",
    "La semi-complétion automatique a pour but de simplifier la tâche d'écriture de l'utilisateur.\n",
    "On peut citer des exemples dans lesquels ces algorithmes sont utilisés :"
   ]
  },
  {
   "cell_type": "markdown",
   "id": "5f643c3d-f34a-4d61-83ea-64ee2ef71c3a",
   "metadata": {
    "slideshow": {
     "slide_type": "notes"
    },
    "tags": []
   },
   "source": [
    "* La complétion dans la recherche sur les navigateurs\n",
    "* La complétions des mots dans les messages textes\n",
    "* Dans l'écriture de code informatique\n",
    "* Dans les mails"
   ]
  },
  {
   "cell_type": "markdown",
   "id": "aed422c4-0068-45b1-aefd-cf8267d423af",
   "metadata": {
    "slideshow": {
     "slide_type": "fragment"
    },
    "tags": []
   },
   "source": [
    "Dans cette présentation on se concentrera sur la semi-completion automatique des messages textes écrits par nos téléphones."
   ]
  },
  {
   "cell_type": "markdown",
   "id": "44c052fe-745a-40ad-aeb0-15f3bdf59ce1",
   "metadata": {
    "jp-MarkdownHeadingCollapsed": true,
    "slideshow": {
     "slide_type": "slide"
    },
    "tags": []
   },
   "source": [
    "### Un peu d'histoire <a class=\"anchor\" id=\"histoire\"></a>"
   ]
  },
  {
   "cell_type": "markdown",
   "id": "82fefa1a-01ab-4931-8b22-98bc94f9c69b",
   "metadata": {
    "slideshow": {
     "slide_type": "fragment"
    }
   },
   "source": [
    "L’histoire des correcteurs automatiques a commencé chez Microsoft au début des années 90.\n",
    "Le logiciel ne disposait que d'un \"autoexpander\", des racourcis clavier pour écrire un mot pré-enregistré.\n",
    "\n",
    "**Dean Hachamovitch** S'est inspiré de ce système pour créer le premier correcteur orthographique qui remplaçait les \"teh\" par \"the\""
   ]
  },
  {
   "cell_type": "markdown",
   "id": "ba746d10-5a75-4fb2-8dd2-64f377bd4e16",
   "metadata": {
    "slideshow": {
     "slide_type": "fragment"
    }
   },
   "source": [
    "Lui et son équipe ont vu que c'était une idée interéssante et ont décidé de déveloper cette idée en créant des dictionnaires qui remplaçaient un mot mal orthographié par le mot correctement ortographié.\n",
    "\n",
    "C'est ainsi qu'est apparue la première approche que nous allons détailler: l'approche par dictionnaire."
   ]
  },
  {
   "cell_type": "markdown",
   "id": "c14916b2-97b3-4d0c-9b32-201d6abce7c0",
   "metadata": {
    "jp-MarkdownHeadingCollapsed": true,
    "slideshow": {
     "slide_type": "slide"
    },
    "tags": []
   },
   "source": [
    "### Par dictionnaire <a class=\"anchor\" id=\"dictionnaire\"></a>"
   ]
  },
  {
   "cell_type": "markdown",
   "id": "a16e8a70-5eb0-4c88-94fb-0dfb269caf60",
   "metadata": {
    "slideshow": {
     "slide_type": "fragment"
    }
   },
   "source": [
    "La (semi-)complétion automatique par dictionnaire est la première approche à avoir été utilisée sur téléphone.\n",
    "Elle est la plus simple, est la plus rapide avec peu de puissance si on a les bons dictionnaires."
   ]
  },
  {
   "cell_type": "markdown",
   "id": "8abb884c-4765-4575-a8f9-8f2a8151c781",
   "metadata": {
    "slideshow": {
     "slide_type": "fragment"
    }
   },
   "source": [
    "Elle a été utilisée sur les télephones **T9** qui sont des téléphones avec peu de puissance de calcul.\n",
    "Petit rappel historique, ces téléphones ne disposaient que de 9 touches pour un alphabet de 26 lettres."
   ]
  },
  {
   "cell_type": "markdown",
   "id": "b64156bf-9388-4184-b5bb-d4f759e91d27",
   "metadata": {
    "slideshow": {
     "slide_type": "notes"
    },
    "tags": []
   },
   "source": [
    "Plusieurs lettres étaient sur la même touche ce qui ralentissait l'écriture.\n",
    "Pour acceder à la touche 'c' par exemple il fallait appuyer 3 fois sur la touche 1."
   ]
  },
  {
   "cell_type": "markdown",
   "id": "958ed6c9-ddca-4aac-a357-46577c2fbb88",
   "metadata": {
    "slideshow": {
     "slide_type": "fragment"
    }
   },
   "source": [
    "C'est de là qu'est né le language sms.\n",
    "Il a donc fallut ajouter un autocompleteur pour écrire des mots complets sans pour autant avoir a appuyer sur 50 touches."
   ]
  },
  {
   "cell_type": "markdown",
   "id": "b3c058b3-0f7c-447c-a342-853ded713c6d",
   "metadata": {
    "slideshow": {
     "slide_type": "fragment"
    }
   },
   "source": [
    "Pour cette approche on se base sur un dictionnaire qui contient les mots les plus utilisés de la langue (trop de mots peu utilisés alourdissent la mémoire et utilisent de la puissance de calcul inutilement), et d'un bon algorithme de distance.\n",
    "\n",
    "Dans ce notebook, on montrera surtout des programmes basés sur cette approche.\n",
    "Les algorithmes sont plus compréhensibles et simples."
   ]
  },
  {
   "cell_type": "markdown",
   "id": "c753176a-a564-4210-8d0c-57d02895c0df",
   "metadata": {
    "jp-MarkdownHeadingCollapsed": true,
    "slideshow": {
     "slide_type": "slide"
    },
    "tags": []
   },
   "source": [
    "### Par mot précedemment saisis <a class=\"anchor\" id=\"predemment-saisis\"></a>"
   ]
  },
  {
   "cell_type": "markdown",
   "id": "0424909a-48dc-47d7-86ff-02133861af75",
   "metadata": {
    "slideshow": {
     "slide_type": "fragment"
    },
    "tags": []
   },
   "source": [
    "Les suggestions données à l'utilisateur peuvent se baser sur son propre vocabulaire.\n",
    "En effet on peut supposer que l'utilisateur sera amené à réutiliser des mots qu'il a déjà utilisé, la question sera donc de déterminer quels sont les mots qu'il réutilisera à l'avenir."
   ]
  },
  {
   "cell_type": "markdown",
   "id": "9f092d02-0fee-4d91-9551-36390f2974ea",
   "metadata": {
    "slideshow": {
     "slide_type": "notes"
    },
    "tags": []
   },
   "source": [
    "En moyenne une personne française utilise entre 300 et 5000 mots sur 32000 mots courrament utilisés.\n",
    "\n",
    "On peut donc se servir de ces statistiques pour avoir des dictionnaires plus petit (et donc avoir une recherche plus rapide) pour faire les corrections avec l'approche précédente.\n",
    "\n",
    "Cependant, connaissant les mot que la personnes utilise, on peut rechercher et afficher en priorité ces mots"
   ]
  },
  {
   "cell_type": "markdown",
   "id": "0e40a0d2-141e-4f7d-ba2f-c8cf7a672963",
   "metadata": {
    "slideshow": {
     "slide_type": "fragment"
    },
    "tags": []
   },
   "source": [
    "Mais cela pose un problème qui est la gestion des données et de la vie privée qui est aux coeur des débats en 2022.\n",
    "Il faut donc prendre cette approche avec des pincettes."
   ]
  },
  {
   "cell_type": "markdown",
   "id": "d6d5f2b3-9dc5-45b1-a876-e7cfd9bc5aa6",
   "metadata": {
    "jp-MarkdownHeadingCollapsed": true,
    "slideshow": {
     "slide_type": "slide"
    },
    "tags": []
   },
   "source": [
    "### Par les caratères de l'application <a class=\"anchor\" id=\"caractere-application\"></a>"
   ]
  },
  {
   "cell_type": "markdown",
   "id": "1ed44604-3071-473c-abbe-7a9e03ba6463",
   "metadata": {
    "slideshow": {
     "slide_type": "fragment"
    }
   },
   "source": [
    "Certains termes ne sont utilisés que dans certains cas comme par exemple une adresse mail.\n",
    "Certains ne se trouvent pas dans le dictionnaire et donc un logiciel de complétion (semi-)automatique aura des difficultés à les corriger.\n",
    "\n",
    "On peux donc choisir d'ajouter des paramètres de l'application comme mots faisant partie du dictionnaire"
   ]
  },
  {
   "cell_type": "markdown",
   "id": "75074453-1aad-4016-b5ab-099fb43bd14d",
   "metadata": {
    "slideshow": {
     "slide_type": "notes"
    },
    "tags": []
   },
   "source": [
    "On peut prendre l'exemple des adresses mail dans un logiciel de messagerie.\n",
    "Ou encore, les noms des contacts dans une application de messages pour téléphone."
   ]
  },
  {
   "cell_type": "markdown",
   "id": "73a5e011-1d53-4506-be8c-571c787d707a",
   "metadata": {
    "slideshow": {
     "slide_type": "fragment"
    }
   },
   "source": [
    "Cela permet de gagner en efficacité et de ne pas corriger des mots qui ne doivent pas l'être.\n",
    "Comme cité précédemment, lorsqu'on veut citer une personne on veut que le correcteur donne le bon nom et ne le corrige pas selon un mot dans le dictionnaire."
   ]
  },
  {
   "cell_type": "markdown",
   "id": "abe01754-a68b-4a59-8ddd-329775e5c1c6",
   "metadata": {
    "jp-MarkdownHeadingCollapsed": true,
    "slideshow": {
     "slide_type": "slide"
    },
    "tags": []
   },
   "source": [
    "### Par sémantique <a class=\"anchor\" id=\"semantique\"></a>"
   ]
  },
  {
   "cell_type": "markdown",
   "id": "129910ee-94c5-40da-9b02-00ba9ecf8a5b",
   "metadata": {
    "slideshow": {
     "slide_type": "fragment"
    }
   },
   "source": [
    "Avec l'amélioration de la puissance et de la mémoire du matériel, les possibilités pour rendre la complétion automatique plus efficaces s'est aggrandie.\n",
    "Les approches ci-dessus permettent une complétion semi-automatique correcte mais on peut aller plus loin.\n",
    "\n",
    "Dans cette partie, on verra quelles approches ont découlé de cette augmentation de puissance."
   ]
  },
  {
   "cell_type": "markdown",
   "id": "62d876b5-f5b9-423c-8a8c-af2ac91e8ad4",
   "metadata": {
    "jp-MarkdownHeadingCollapsed": true,
    "slideshow": {
     "slide_type": "subslide"
    },
    "tags": []
   },
   "source": [
    "#### Intelligence Artificielle <a class=\"anchor\" id=\"intelligence-artificielle\"></a>"
   ]
  },
  {
   "cell_type": "markdown",
   "id": "746e24ae-0da2-4c92-a89e-164df42e5b3d",
   "metadata": {
    "slideshow": {
     "slide_type": "fragment"
    }
   },
   "source": [
    "Une nouvelle approche qui a fait surface depuis quelques années est celle de l'intelligence artificielle.\n",
    "Le principe est d'entrainer une structure mathématique à produire un résultat par rapport à des entrées spécifiques.\n",
    "\n",
    "La complexité avec une langue est que la combinaison des mots est infinie, c'est donc un problème très compliqué a résoudre.\n",
    "De plus il faut une trés grande base de données et l'algorithme n'est pas adaptatif."
   ]
  },
  {
   "cell_type": "markdown",
   "id": "cf127214-8938-442a-86c5-62f65104ec4f",
   "metadata": {
    "slideshow": {
     "slide_type": "subslide"
    },
    "tags": []
   },
   "source": [
    "Une fois l'algorithme entrainé, il devient difficile de lui faire changer ses réponses.\n",
    "De plus, des problèmes sur les types d'entrées et de sorties se posent:\n",
    "* Faut-il prendre des mots en entrée et sortie, alors le programme ne pourra pas utiliser de nouveaux mots ou il faut le réentrainer constamment.\n",
    "* Faut-il prendre des lettres, mais alors les résultas seront moins précis et les mots produits n'existent peut être pas.\n",
    "\n",
    "Des questions qui sont compliquées a répondre."
   ]
  },
  {
   "cell_type": "markdown",
   "id": "9f45a7eb-4933-4ccf-86f5-6bb6e74ae459",
   "metadata": {
    "jp-MarkdownHeadingCollapsed": true,
    "slideshow": {
     "slide_type": "subslide"
    },
    "tags": []
   },
   "source": [
    "#### Algorithme type GPT-3 <a class=\"anchor\" id=\"intelligence-artificielle-GPT3\"></a>"
   ]
  },
  {
   "cell_type": "markdown",
   "id": "3909025e-83af-4738-a69a-44c98e0133d2",
   "metadata": {
    "slideshow": {
     "slide_type": "fragment"
    }
   },
   "source": [
    "L'algorithme GPT est développé par *Open IA*.\n",
    "Aujourd'hui l'un des meilleurs completeurs automatiques de phrases (voir plus).\n",
    "\n",
    "Leur algorithme utilise l'intéligence artificielle comme cité ci-dessus, mais il ont une différence importante.\n",
    "Cet algorithme va tenter de classifier les mots avant de les envoyer dans le réseau de neurones."
   ]
  },
  {
   "cell_type": "markdown",
   "id": "1549201a-28ae-47d1-9be0-79ef42b5b24b",
   "metadata": {
    "slideshow": {
     "slide_type": "notes"
    },
    "tags": []
   },
   "source": [
    "On va ainsi pouvoir classer les différents types de mots comme:\n",
    "* Les mots qui ne portent pas de sens comme les: de, la, les, ou, etc.\n",
    "* Les mots qui correspondent à des organisations, les noms de personnes.\n",
    "* Les verbes, les adjectifs, etc.\n",
    "Tous cela va permettre ensuite au réseau neuronal de comprendre les sens et de comprendre la phrase."
   ]
  },
  {
   "cell_type": "markdown",
   "id": "9912aa8e-336e-4b42-a762-f77f0c503281",
   "metadata": {
    "slideshow": {
     "slide_type": "fragment"
    },
    "tags": []
   },
   "source": [
    "Le fait de comprendre la phrase va donc permettre de produire le mot suivant, la fin de la phrase ou plus.\n",
    "L'algorithme GPT peut rédiger un paragraphe complet en partant de quelques lignes de contexte ou peut produire un texte selon les recommandations que vous lui faites."
   ]
  },
  {
   "cell_type": "markdown",
   "id": "2802acf7-1b72-43f1-8e7e-10aad762665a",
   "metadata": {
    "slideshow": {
     "slide_type": "notes"
    },
    "tags": []
   },
   "source": [
    "Cette algorithme est devenu si puissant qu'il est intégré à d'autres logiciels de complétion automatique voir de jeux.\n",
    "On peut citer parmi les logiciels qui l'utilise:\n",
    "* IA Dongeon\n",
    "* Github copilot\n",
    "* Des chatbots"
   ]
  },
  {
   "cell_type": "markdown",
   "id": "7539963b-96f0-4c2d-ae76-d6f708e8ae8f",
   "metadata": {
    "slideshow": {
     "slide_type": "slide"
    },
    "tags": []
   },
   "source": [
    "## Les algorithmes de calculs de distance <a class=\"anchor\" id=\"calcul-distance\"></a>"
   ]
  },
  {
   "cell_type": "markdown",
   "id": "8fcd7f8b-2807-4e8d-a26d-a46a50148bb3",
   "metadata": {
    "slideshow": {
     "slide_type": "slide"
    },
    "tags": []
   },
   "source": [
    "### Initialisation des scripts <a class=\"anchor\" id=\"script-init\"></a>"
   ]
  },
  {
   "cell_type": "markdown",
   "id": "c8cf9859-8c20-45da-96be-80ca37c5d748",
   "metadata": {
    "slideshow": {
     "slide_type": "notes"
    },
    "tags": []
   },
   "source": [
    "Dans le code de la cellule suivante on fait les importations classiques:\n",
    "* Ipython pour l'affichage dans le notebook\n",
    "* ipywidget pour rendre les scripts interactif et avoir de l'affichage dynamique\n",
    "* pandas pour la gestion de bases de données conséquentes\n",
    "* data.background pour les affichages des tableaux, faciliter l'affichage et executer un algorithme sur tous les mots de la base de données\n",
    "\n",
    "On a créé un *setWidgetTextSize* pour régler la taille d'affichage des widgets"
   ]
  },
  {
   "cell_type": "code",
   "execution_count": 1,
   "id": "cb75432d-8cc9-43a6-a7cc-abcf5f04686e",
   "metadata": {
    "slideshow": {
     "slide_type": "fragment"
    },
    "tags": []
   },
   "outputs": [],
   "source": [
    "#%load_ext lab_black\n",
    "%matplotlib inline\n",
    "!test -d data || (apt install subversion && svn checkout https://github.com/thebosslol66/Recherche-Documentaire-Completion-automatique/trunk/data)\n",
    "!test -d img || svn checkout https://github.com/thebosslol66/Recherche-Documentaire-Completion-automatique/trunk/img\n",
    "\n",
    "from IPython.display import display, HTML\n",
    "from ipywidgets import widgets, interact, interactive, fixed, interact_manual\n",
    "import pandas as pd\n",
    "import random\n",
    "import data.background as utils\n",
    "\n",
    "utils.setWidgetTextSize(2)"
   ]
  },
  {
   "cell_type": "markdown",
   "id": "268b29aa-3caf-4d7f-ba52-fb134168348a",
   "metadata": {
    "slideshow": {
     "slide_type": "skip"
    },
    "tags": []
   },
   "source": [
    "Dans la cellule ci-dessous, on charge simplement le dictionnaire de mots français, qui retire les mots qui ont 3 ou moins de caractères et charge le dictionnaire dan la fonction *utils.getPredictions*"
   ]
  },
  {
   "cell_type": "code",
   "execution_count": 2,
   "id": "20efe505-ea1e-4cdd-8928-6caa0e5e7e80",
   "metadata": {
    "slideshow": {
     "slide_type": "fragment"
    },
    "tags": []
   },
   "outputs": [
    {
     "data": {
      "application/vnd.jupyter.widget-view+json": {
       "model_id": "aaaab6f987874aa7a7b364bb291311ba",
       "version_major": 2,
       "version_minor": 0
      },
      "text/plain": [
       "IntProgress(value=0, description='Loading:', max=4, style=ProgressStyle(bar_color='blue'))"
      ]
     },
     "metadata": {},
     "output_type": "display_data"
    },
    {
     "name": "stdout",
     "output_type": "stream",
     "text": [
      "Nombre de mots dans le dictionnaire:  336437\n"
     ]
    }
   ],
   "source": [
    "filename = \"data/liste.de.mots.francais.frgut.csv\"\n",
    "#http://www.pallier.org/liste-de-mots-francais.html\n",
    "\n",
    "word_dict = utils.import_data(filename)\n",
    "word_dict = utils.delete_useless_word_in_pd(word_dict)\n",
    "\n",
    "utils.getPredictions = utils.getPredictionsFromDict(word_dict)\n",
    "\n",
    "print(\"Nombre de mots dans le dictionnaire: \", len(word_dict))\n",
    "\n",
    "TestWord = \"abouhcemsnr\""
   ]
  },
  {
   "cell_type": "markdown",
   "id": "1e811a94-d700-4cfc-8850-018a6ee88116",
   "metadata": {
    "jp-MarkdownHeadingCollapsed": true,
    "slideshow": {
     "slide_type": "slide"
    },
    "tags": []
   },
   "source": [
    "### Distance de Levenshtein <a class=\"anchor\" id=\"calcul-distance-levenshtein\"></a>\n",
    "\n",
    "Cet algorithme permet de calculer la distance entre deux mots.\n",
    "Il n'a que 3 opérations de base sur les lettres des mots qui sont:\n",
    "* l'ajout\n",
    "* la suppression\n",
    "* la substitution\n",
    "\n",
    "La distance de Levensthein sera le nombre d'opération minimal pour passer d'un mot à l'autre, en conséquence, plus ce nombre sera petit, plus la distance sera petite donc plus les mots seront ressemblants.\n",
    "\n",
    "Par exemple, la distance de Levenshtein en \"foyers\" et \"loyer\" est de 2, les opérations sont :\n",
    "* une substitution de 'f' par 'l'\n",
    "* une suppression de 's'"
   ]
  },
  {
   "cell_type": "markdown",
   "id": "a76cdc4a-31c3-4346-8fd2-fec6b18a2cec",
   "metadata": {
    "slideshow": {
     "slide_type": "subslide"
    },
    "tags": []
   },
   "source": [
    "Pour calculer la distance de Levenshtein, on peut se servir de l'algorithme de Levenshtein appliqué à un tableau :\n",
    "<div>\n",
    "<img src=\"https://raw.githubusercontent.com/thebosslol66/Recherche-Documentaire-Completion-automatique/master/img/208115.png\" alt=\"distance de levenstein\" title=\"distance de levenstein\" width=\"500\" height=\"500\">\n",
    "</div>\n",
    "Dans ce tableau de taille (len(c1)+1,len(c2)+1) la première ligne et la première colonne sont remplies avec des valeurs allant de 0 aux tailles des chaînes associées.\n",
    "Ensuite rempli le reste du tableau de la manière suivante :\n",
    "Pour chaque case du tableau :\n",
    "* on prend le minimum des cases du dessus, du côté gauche et de la diagonale haute gauche\n",
    "* si les caractères associés ne sont pas égaux on ajoute 1 à cela\n",
    "La distance de Levenstein est le dernier élément du tableau."
   ]
  },
  {
   "cell_type": "code",
   "execution_count": 3,
   "id": "bb9f1942-1dff-4fe1-bcff-d91a14ae2fab",
   "metadata": {
    "slideshow": {
     "slide_type": "subslide"
    },
    "tags": []
   },
   "outputs": [],
   "source": [
    "def DistanceDeLevenshtein(c1, show_table=False):\n",
    "    #initialisation\n",
    "    width = len(c1) + 1\n",
    "\n",
    "    def funct(c2):\n",
    "        #initialisation\n",
    "        D = []\n",
    "        height = len(c2) + 1\n",
    "        for i in range(0, height):\n",
    "            D.append([0] * width)\n",
    "            D[i][0] = i\n",
    "        for j in range(1, width):\n",
    "            D[0][j] = j\n",
    "            \n",
    "        #parcours du tableau\n",
    "        for i in range(1, height):\n",
    "            for j in range(1, width):\n",
    "                coutSubtitution = 1\n",
    "                if c1[j - 1] == c2[i - 1]:\n",
    "                    coutSubtitution = 0\n",
    "                D[i][j] = min(\n",
    "                    D[i - 1][j] + 1, D[i][j - 1] + 1, D[i - 1][j - 1] + coutSubtitution\n",
    "                )\n",
    "        #affichage\n",
    "        if show_table:\n",
    "            utils.showLevensteinTable(\"Tableau de Levenshtein\", c1, c2, D)\n",
    "        #retour\n",
    "        return D[-1][-1]\n",
    "\n",
    "    return funct"
   ]
  },
  {
   "cell_type": "code",
   "execution_count": 4,
   "id": "052e141e-3096-4ec8-8160-32921d08d454",
   "metadata": {
    "slideshow": {
     "slide_type": "subslide"
    },
    "tags": []
   },
   "outputs": [
    {
     "data": {
      "image/png": "[encoded data removed]",
      "text/plain": [
       "<Figure size 500x600 with 1 Axes>"
      ]
     },
     "metadata": {
      "needs_background": "light"
     },
     "output_type": "display_data"
    },
    {
     "data": {
      "text/plain": [
       "4"
      ]
     },
     "execution_count": 4,
     "metadata": {},
     "output_type": "execute_result"
    }
   ],
   "source": [
    "DistanceDeLevenshtein(\"chouruot\", show_table=True)(\"choucroute\")"
   ]
  },
  {
   "cell_type": "markdown",
   "id": "716aa90c-dea5-425f-888f-8212fcba692f",
   "metadata": {
    "slideshow": {
     "slide_type": "notes"
    },
    "tags": []
   },
   "source": [
    "Pour montrer les prédictions que peut faire cet algorithme, on compare l'ensemble du dictionnaire avec le mot mal (très mal) orthographié.\n",
    "\n",
    "*On notifie que cette fonction est appelée avec le même mot pour tous les algorithmes pour avoir un aperçu de ce qu'est capable chaque algorithme.*\n",
    "\n",
    "On obtient donc les suggestions proposées par ordre d'importance:"
   ]
  },
  {
   "cell_type": "code",
   "execution_count": 5,
   "id": "86b69f22-dd2b-48fd-a11f-b6dea8558736",
   "metadata": {
    "slideshow": {
     "slide_type": "subslide"
    },
    "tags": []
   },
   "outputs": [
    {
     "name": "stdout",
     "output_type": "stream",
     "text": [
      "DistanceDeLevenshtein as mis 0.712703 secondes pour s'executer\n",
      "Prediction for word:  abouhcemsnr\n",
      "           ortho  affinity\n",
      "851  abouchement         4\n",
      "936   aboutement         4\n",
      "562    aboiement         5\n"
     ]
    }
   ],
   "source": [
    "pred, time_elapsed = utils.getPredictions(DistanceDeLevenshtein, TestWord, TestWord[:2])\n",
    "print(\n",
    "    \"{0} as mis {1:f} secondes pour s'executer\".format(\n",
    "        (DistanceDeLevenshtein.__name__), time_elapsed\n",
    "    )\n",
    ")\n",
    "\n",
    "print(\"Prediction for word: \", TestWord)\n",
    "print(pred)"
   ]
  },
  {
   "cell_type": "markdown",
   "id": "6974b335-899b-4a06-8035-5c3d8a1a4b56",
   "metadata": {
    "jp-MarkdownHeadingCollapsed": true,
    "slideshow": {
     "slide_type": "slide"
    },
    "tags": []
   },
   "source": [
    "### Distance Damerau-Levenshtein <a class=\"anchor\" id=\"calcul-distance-damerau-levenshtein\"></a>\n",
    "\n",
    "Cet algorithme reprend les mêmes opérations que celui de Levenshtein mais ajoute aux opérations élémentaires la transposition de deux lettres côte à côte.\n",
    "Toutes ces opérations correspondent a 80% des fautes d'orthographes humaines.\n",
    "\n",
    "Dans l'algorithme la seul différence est que s'il remarque, que deux lettres sont inversées l'une par-rapport à l'autre dans les deux mots, ce qui aurait été considéré comme une double substitution dans l'algorithme de base devient une transposition.\n",
    "\n",
    "Par exemple : la distance entre \"ia\" et \"ai\" passe de 2 (double substitution) à 1 (transposition)."
   ]
  },
  {
   "cell_type": "code",
   "execution_count": 6,
   "id": "296551de-a0c4-45f5-9387-e5464f40bb24",
   "metadata": {
    "slideshow": {
     "slide_type": "subslide"
    },
    "tags": []
   },
   "outputs": [],
   "source": [
    "def DistanceDeDamerauLevenshtein(c1, show_table=False):\n",
    "    #initialisation\n",
    "    width = len(c1) + 1\n",
    "\n",
    "    def funct(c2):\n",
    "        #initialisation\n",
    "        D = []\n",
    "        height = len(c2) + 1\n",
    "        for i in range(0, height):\n",
    "            D.append([0] * width)\n",
    "            D[i][0] = i\n",
    "        for j in range(1, width):\n",
    "            D[0][j] = j\n",
    "\n",
    "        #parcours du tableau\n",
    "        for i in range(1, height):\n",
    "            for j in range(1, width):\n",
    "                coutSubtitution = 1\n",
    "                if c1[j - 1] == c2[i - 1]:\n",
    "                    coutSubtitution = 0\n",
    "                D[i][j] = min(\n",
    "                    D[i - 1][j] + 1, D[i][j - 1] + 1, D[i - 1][j - 1] + coutSubtitution\n",
    "                )\n",
    "                if (\n",
    "                    i > 1\n",
    "                    and j > 1\n",
    "                    and c1[j - 1] == c2[i - 2]\n",
    "                    and c1[j - 2] == c2[i - 1]\n",
    "                ):\n",
    "                    D[i][j] = min(D[i][j], D[i - 2][j - 2] + coutSubtitution)\n",
    "                    \n",
    "        #affichage\n",
    "        if show_table:\n",
    "            utils.showLevensteinTable(\"Tableau de Damerau-Levenshtein\", c1, c2, D)\n",
    "            \n",
    "        #retour\n",
    "        return D[-1][-1]\n",
    "\n",
    "    return funct"
   ]
  },
  {
   "cell_type": "code",
   "execution_count": 7,
   "id": "7d7cef09-4bbb-422e-98fa-8dc8d9c44488",
   "metadata": {
    "slideshow": {
     "slide_type": "subslide"
    },
    "tags": []
   },
   "outputs": [
    {
     "data": {
      "image/png": "[encoded data removed]",
      "text/plain": [
       "<Figure size 500x600 with 1 Axes>"
      ]
     },
     "metadata": {
      "needs_background": "light"
     },
     "output_type": "display_data"
    },
    {
     "data": {
      "text/plain": [
       "3"
      ]
     },
     "execution_count": 7,
     "metadata": {},
     "output_type": "execute_result"
    }
   ],
   "source": [
    "DistanceDeDamerauLevenshtein(\"chouruot\", show_table=True)(\"choucroute\")"
   ]
  },
  {
   "cell_type": "markdown",
   "id": "5ece5d51-5350-4bf7-a6fa-4edff252809c",
   "metadata": {
    "slideshow": {
     "slide_type": "skip"
    },
    "tags": []
   },
   "source": [
    "On fait une recherche des meilleures correspondances de mots comme dans l'algorithme précédent."
   ]
  },
  {
   "cell_type": "code",
   "execution_count": 8,
   "id": "09c48f37-6a00-486f-b259-3d767bd5fcf6",
   "metadata": {
    "slideshow": {
     "slide_type": "subslide"
    },
    "tags": []
   },
   "outputs": [
    {
     "name": "stdout",
     "output_type": "stream",
     "text": [
      "DistanceDeDamerauLevenshtein as mis 0.656769 secondes pour s'executer\n",
      "Prediction for word:  abouhcemsnr\n",
      "            ortho  affinity\n",
      "851   abouchement         3\n",
      "852  abouchements         4\n",
      "853     abouchent         4\n"
     ]
    }
   ],
   "source": [
    "pred, time_elapsed = utils.getPredictions(\n",
    "    DistanceDeDamerauLevenshtein, TestWord, TestWord[:2]\n",
    ")\n",
    "\n",
    "print(\n",
    "    \"{0} as mis {1:f} secondes pour s'executer\".format(\n",
    "        (DistanceDeDamerauLevenshtein.__name__), time_elapsed\n",
    "    )\n",
    ")\n",
    "\n",
    "print(\"Prediction for word: \", TestWord)\n",
    "print(pred)"
   ]
  },
  {
   "cell_type": "markdown",
   "id": "2a5a8d15-8dbe-4381-8676-23866d68b64e",
   "metadata": {
    "jp-MarkdownHeadingCollapsed": true,
    "slideshow": {
     "slide_type": "slide"
    },
    "tags": []
   },
   "source": [
    "### Distance de Jaro <a class=\"anchor\" id=\"calcul-distance-jaro\"></a>"
   ]
  },
  {
   "cell_type": "markdown",
   "id": "f905218b-0419-49c1-84bf-8a77257f03ac",
   "metadata": {
    "slideshow": {
     "slide_type": "fragment"
    },
    "tags": []
   },
   "source": [
    "La distance de Jaro calcule le nombre de lettres qui sont présentes dans les deux mots et le nombre de lettres\n",
    "qui ne sont pas à la bonne place par rapport aux autres.\n",
    "\n",
    "On calcule la distance de Jaro à l'aide du calcul suivant : \n",
    "    $$d_j = \\frac{1}{3}\\left(\\frac{m}{\\text{len}(c1)}+\\frac{m}{\\text{len}(c2)}+\\frac{m-t}{m}\\right)$$\n",
    "Avec :\n",
    "* len(ci) est la longueur de la chaîne i\n",
    "* m est le nombre de caractères correspondants\n",
    "* t est le nombre de transpositions"
   ]
  },
  {
   "cell_type": "markdown",
   "id": "7325cbe7-de38-487c-9c8a-89db3dd3ba3d",
   "metadata": {
    "slideshow": {
     "slide_type": "subslide"
    },
    "tags": []
   },
   "source": [
    "On considère que deux caractères correspondent si le caractère est présent dans les deux chaînes et que la\n",
    "distance les séparant est inférieure ou égale à :\n",
    "    $$\\lfloor\\frac{\\text{max}(\\text{len}(c1), \\text{len}(c2)}{2}\\rfloor -1$$\n",
    "    \n",
    "Une première chose que l'on remarque est que la distance est comprise en 0 et 1 inclus, on peut considérer le réel obtenu étant un indice de ressemblance, plus sa valeur est élevée, plus les chaînes correspondent.\n",
    "\n",
    "Concernant l'algorithme, il se fait en 3 étapes :\n",
    "* On initialise un tableau de taille (len(c1),len(c2))\n",
    "* On regarde dans un premier temps les lettres en commun puis les transpositions\n",
    "* On applique la formule"
   ]
  },
  {
   "cell_type": "code",
   "execution_count": 9,
   "id": "e8df48ef-c48a-42ee-b41c-23a4fe84949b",
   "metadata": {
    "slideshow": {
     "slide_type": "subslide"
    },
    "tags": []
   },
   "outputs": [],
   "source": [
    "def DistanceDeJaro(c1, show_table=False):\n",
    "    len_c1 = len(c1)\n",
    "    def DistanceDeJaro(c2):\n",
    "        len_c2 = len(c2)\n",
    "        if c1 == c2:\n",
    "            return 1\n",
    "        \n",
    "        limit = int(max(len_c1, len_c2) / 2) - 1\n",
    "        \n",
    "        match = 0 \n",
    "        c1_match = [0] * len_c1\n",
    "        c2_match = [0] * len_c2\n",
    "        \n",
    "        for i in range(len_c1):\n",
    "            for j in range(max(0, i - limit), min(len_c2, i + limit + 1)):\n",
    "                if c1[i] == c2[j] and not c2_match[j]:\n",
    "                    c1_match[i], c2_match[j] = 1, 1\n",
    "                    match += 1\n",
    "                    break\n",
    "                    \n",
    "        if show_table:\n",
    "            utils.showJaroTable(\"Table de Jaro\", c1, c2)\n",
    "        if match == 0:\n",
    "            return 0\n",
    "        t = 0\n",
    "        point = 0\n",
    "        for i in range(len_c1):\n",
    "            if c1_match[i]:\n",
    "                while not c2_match[point]:\n",
    "                    point += 1\n",
    "                if c1[i] != c2[point]:\n",
    "                    t += 1\n",
    "                point += 1\n",
    "        t /= 2\n",
    "        \n",
    "        return ((match / float(len_c1))+ (match / float(len_c2))+ ((match - t) / float(match))) / 3.0\n",
    "    return DistanceDeJaro"
   ]
  },
  {
   "cell_type": "code",
   "execution_count": 10,
   "id": "df355cf6-f697-4e50-82d2-ebb988b08b54",
   "metadata": {
    "slideshow": {
     "slide_type": "subslide"
    },
    "tags": []
   },
   "outputs": [
    {
     "data": {
      "image/png": "[encoded data removed]",
      "text/plain": [
       "<Figure size 600x450 with 2 Axes>"
      ]
     },
     "metadata": {
      "needs_background": "light"
     },
     "output_type": "display_data"
    },
    {
     "data": {
      "text/plain": [
       "0.7666666666666666"
      ]
     },
     "execution_count": 10,
     "metadata": {},
     "output_type": "execute_result"
    }
   ],
   "source": [
    "DistanceDeJaro(\"dixon\", show_table=True)(\"dicksonx\")"
   ]
  },
  {
   "cell_type": "markdown",
   "id": "a49caafe-6d78-4003-9808-5b8c3dabb29b",
   "metadata": {
    "slideshow": {
     "slide_type": "skip"
    },
    "tags": []
   },
   "source": [
    "On fait une recherche des meilleures correspondances de mots comme dans l'algorithme précédent."
   ]
  },
  {
   "cell_type": "code",
   "execution_count": 11,
   "id": "20ac8d5e-551a-4d99-ad86-8113e17b6f35",
   "metadata": {
    "slideshow": {
     "slide_type": "subslide"
    },
    "tags": []
   },
   "outputs": [
    {
     "name": "stdout",
     "output_type": "stream",
     "text": [
      "DistanceDeJaro a mis 0.580734 secondes pour s'executer\n",
      "Prediction for word:  abouhcemsnr\n",
      "           ortho  affinity\n",
      "865  aboucherons  0.127273\n",
      "854     aboucher  0.132576\n",
      "867     abouches  0.132576\n"
     ]
    }
   ],
   "source": [
    "pred, time_elapsed = utils.getPredictions(\n",
    "    DistanceDeJaro, TestWord, TestWord[:2], modifier_funct=lambda x: 1 - x\n",
    ")\n",
    "\n",
    "print(\n",
    "    \"{0} a mis {1:f} secondes pour s'executer\".format(\n",
    "        (DistanceDeJaro.__name__), time_elapsed\n",
    "    )\n",
    ")\n",
    "\n",
    "print(\"Prediction for word: \", TestWord)\n",
    "print(pred)"
   ]
  },
  {
   "cell_type": "markdown",
   "id": "7340c1ed-af1e-4e30-a690-a21926a63767",
   "metadata": {
    "jp-MarkdownHeadingCollapsed": true,
    "slideshow": {
     "slide_type": "slide"
    },
    "tags": []
   },
   "source": [
    "### Distance de Jaro-Winkler <a class=\"anchor\" id=\"calcul-distance-jaro-winkler\"></a>"
   ]
  },
  {
   "cell_type": "markdown",
   "id": "a6bc3965-8996-4ba2-9eaa-70d0d28bdc68",
   "metadata": {
    "slideshow": {
     "slide_type": "fragment"
    },
    "tags": []
   },
   "source": [
    "C'est une version améliorée de l'algorithme de Jaro qui donne plus d'importance sur la similitude des débuts de mots.\n",
    "On part du principe que les mots écrits humainement sont généralement bien écrits dans les premières lettres puis les fautes d’orthographe apparaissent, en conséquence on va donner un avantage les mots qui ont le plus long préfixe commun.\n",
    "\n",
    "On a donc le calcul suivant :\n",
    "    $$ d_w = d_j +(l * p * (1-d_j) )$$\n",
    "Avec :\n",
    "* d_j est la valeur de l’algorithme de Jaro \n",
    "* l est la longueur du préfixe commun (maximum 4 caractères) \n",
    "* p est un coefficient qui permet de favoriser les chaînes avec un préfixe commun. Winkler, son créateur, propose pour valeur p = 0.1"
   ]
  },
  {
   "cell_type": "markdown",
   "id": "992f1e6e-1c8b-46e6-be5b-d5c193eedda1",
   "metadata": {
    "slideshow": {
     "slide_type": "notes"
    },
    "tags": []
   },
   "source": [
    "Concernant l'algorithme :\n",
    "* on calcule la distance de Jaro\n",
    "* on regarde le nombre de lettres en commun dans le préfixe\n",
    "* on applique la formule écrite ci-dessus"
   ]
  },
  {
   "cell_type": "code",
   "execution_count": 12,
   "id": "596ecaf4-02a9-4d81-a226-21a5b5e43c8c",
   "metadata": {
    "slideshow": {
     "slide_type": "subslide"
    },
    "tags": []
   },
   "outputs": [],
   "source": [
    "def DistanceDeJaroWinkler(threshold=0.7, p=0.1):\n",
    "    def DistanceDeJaroWinkler(c1, show_table=False):\n",
    "        fDistanceDeJaro = DistanceDeJaro(c1)\n",
    "\n",
    "        def funct2(c2):\n",
    "            dj = fDistanceDeJaro(c2)\n",
    "\n",
    "            l = 0\n",
    "            pos = 0\n",
    "            if dj > threshold:\n",
    "                for i in range(min(len(c1), len(c2))):\n",
    "                    if c1[l] != c2[l]:\n",
    "                        break\n",
    "                    if l >= 4:\n",
    "                        break\n",
    "                    l += 1\n",
    "\n",
    "            if show_table:\n",
    "                utils.showJaroTable(\n",
    "                    \"Table de Jaro-Winkler\",\n",
    "                    c1,\n",
    "                    c2,\n",
    "                    Winkler=True,\n",
    "                    p=p,\n",
    "                    threshold=threshold,\n",
    "                    l=l,\n",
    "                )\n",
    "\n",
    "            return dj + (l * p * (1 - dj))\n",
    "\n",
    "        return funct2\n",
    "    return DistanceDeJaroWinkler"
   ]
  },
  {
   "cell_type": "code",
   "execution_count": 13,
   "id": "5859f359-ba61-4dce-b5db-21f0c7d289aa",
   "metadata": {
    "slideshow": {
     "slide_type": "subslide"
    },
    "tags": []
   },
   "outputs": [
    {
     "data": {
      "image/png": "[encoded data removed]",
      "text/plain": [
       "<Figure size 600x450 with 2 Axes>"
      ]
     },
     "metadata": {
      "needs_background": "light"
     },
     "output_type": "display_data"
    },
    {
     "data": {
      "text/plain": [
       "0.8133333333333332"
      ]
     },
     "execution_count": 13,
     "metadata": {},
     "output_type": "execute_result"
    }
   ],
   "source": [
    "DistanceDeJaroWinkler()(\"dixon\", show_table=True)(\"dicksonx\")"
   ]
  },
  {
   "cell_type": "markdown",
   "id": "db668de6-47ff-427e-9935-71ff01dd01e5",
   "metadata": {
    "slideshow": {
     "slide_type": "skip"
    },
    "tags": []
   },
   "source": [
    "On fait une recherche des meilleures correspondances de mots comme dans l'algorithme précédent."
   ]
  },
  {
   "cell_type": "code",
   "execution_count": 14,
   "id": "76ca7943-e36a-44ec-a757-6a34fbd13b34",
   "metadata": {
    "slideshow": {
     "slide_type": "subslide"
    },
    "tags": []
   },
   "outputs": [
    {
     "name": "stdout",
     "output_type": "stream",
     "text": [
      "DistanceDeJaroWinkler as mis 0.557043 secondes pour s'executer\n",
      "Prediction for word:  abouhcemsnr\n",
      "           ortho  affinity\n",
      "865  aboucherons  0.076364\n",
      "854     aboucher  0.079545\n",
      "867     abouches  0.079545\n"
     ]
    }
   ],
   "source": [
    "pred, time_elapsed = utils.getPredictions(\n",
    "    DistanceDeJaroWinkler(), TestWord, TestWord[:2], modifier_funct=lambda x: 1 - x\n",
    ")\n",
    "print(\n",
    "    \"{0} as mis {1:f} secondes pour s'executer\".format(\n",
    "        (DistanceDeJaroWinkler.__name__), time_elapsed\n",
    "    )\n",
    ")\n",
    "print(\"Prediction for word: \", TestWord)\n",
    "print(pred)"
   ]
  },
  {
   "cell_type": "markdown",
   "id": "572883ce-3090-49e1-b4b3-189cd4ec8e36",
   "metadata": {
    "jp-MarkdownHeadingCollapsed": true,
    "slideshow": {
     "slide_type": "slide"
    },
    "tags": []
   },
   "source": [
    "### Un point de comparaison <a class=\"anchor\" id=\"calcul-comparaison\"></a>"
   ]
  },
  {
   "cell_type": "markdown",
   "id": "07c3b8a3-f311-4001-9053-4ebab5b5c3a7",
   "metadata": {
    "slideshow": {
     "slide_type": "notes"
    },
    "tags": []
   },
   "source": [
    "Pour donner un moyen un peu plus ludique de comparer, on a fait une petite interface permettant de montrer les propositions des différents algorithmes pour un même problème.\n",
    "Dans cette petite interaction on considère que les 2 premiers caractères sont corrects."
   ]
  },
  {
   "cell_type": "code",
   "execution_count": 15,
   "id": "9fbf79de-a502-44ec-b691-fb5a0849fbc6",
   "metadata": {
    "hide_input": true,
    "slideshow": {
     "slide_type": "fragment"
    },
    "tags": []
   },
   "outputs": [
    {
     "data": {
      "application/vnd.jupyter.widget-view+json": {
       "model_id": "48287701ee324d418a941ba91fc2086c",
       "version_major": 2,
       "version_minor": 0
      },
      "text/plain": [
       "Text(value='', _dom_classes=('custom-size',))"
      ]
     },
     "metadata": {},
     "output_type": "display_data"
    },
    {
     "data": {
      "application/vnd.jupyter.widget-view+json": {
       "model_id": "279cfd7045f547aab7521650c69d38f0",
       "version_major": 2,
       "version_minor": 0
      },
      "text/plain": [
       "GridspecLayout(children=(Label(value='Levenshtein', layout=Layout(grid_area='widget001'), _dom_classes=('custo…"
      ]
     },
     "metadata": {},
     "output_type": "display_data"
    }
   ],
   "source": [
    "utils.displayComparaisonInterface(\n",
    "    utils.getPredictions,\n",
    "    DistanceDeLevenshtein,\n",
    "    DistanceDeDamerauLevenshtein,\n",
    "    DistanceDeJaro,\n",
    "    DistanceDeJaroWinkler(),\n",
    ")"
   ]
  },
  {
   "cell_type": "markdown",
   "id": "9248272f",
   "metadata": {
    "jp-MarkdownHeadingCollapsed": true,
    "slideshow": {
     "slide_type": "slide"
    },
    "tags": []
   },
   "source": [
    "### Nos modifications <a class=\"anchor\" id=\"calcul-mofifications\"></a>"
   ]
  },
  {
   "cell_type": "markdown",
   "id": "07ff83bf-4029-4e15-9338-e25cfd75a4eb",
   "metadata": {
    "slideshow": {
     "slide_type": "notes"
    },
    "tags": []
   },
   "source": [
    "Pour faire ce code, on est parti de l'algorithme le plus performant de nos test c'est à dire l'algorithme de Damerau-Levenshtein.\n",
    "On a donc décidé de l'améliorer en lui rajoutant des valeurs variables et de prendre en compte les lettres autour de la lettre saisie sur le clavier.\n",
    "Cela donne donc l'algorithme suivant."
   ]
  },
  {
   "cell_type": "code",
   "execution_count": 16,
   "id": "d84876d3",
   "metadata": {
    "slideshow": {
     "slide_type": "subslide"
    },
    "tags": []
   },
   "outputs": [],
   "source": [
    "def DamerauLevenshteinReglable(costAdd=1, costSuppr=1, costSubst=1, costTransp=1, multProxi=1):\n",
    "    def DamerauLevenshteinReglable(c1):\n",
    "        width = len(c1) + 1\n",
    "\n",
    "        def funct2(c2):\n",
    "            D = []\n",
    "            height = len(c2) + 1\n",
    "            for i in range(0, height):\n",
    "                D.append([0] * width)\n",
    "                D[i][0] = i\n",
    "            for j in range(1, width):\n",
    "                D[0][j] = j\n",
    "\n",
    "            for i in range(1, height):\n",
    "                for j in range(1, width):\n",
    "                    coutSubtitution = 1\n",
    "                    if c1[j - 1] == c2[i - 1]:\n",
    "                        coutSubtitution = 0\n",
    "                    elif c2[i - 1] in utils.azerty_around_letter[c1[j - 1]]:\n",
    "                        coutSubtitution *= multProxi\n",
    "                    D[i][j] = min(\n",
    "                        D[i - 1][j] + costSuppr,\n",
    "                        D[i][j - 1] + costAdd,\n",
    "                        D[i - 1][j - 1] + coutSubtitution * costSubst,\n",
    "                    )\n",
    "                    if (\n",
    "                        i > 1\n",
    "                        and j > 1\n",
    "                        and c1[j - 1] == c2[i - 2]\n",
    "                        and c1[j - 2] == c2[i - 1]\n",
    "                    ):\n",
    "                        D[i][j] = min(\n",
    "                            D[i][j], D[i - 2][j - 2] + coutSubtitution * costTransp\n",
    "                        )\n",
    "            return D[-1][-1]\n",
    "        return funct2\n",
    "    return DamerauLevenshteinReglable"
   ]
  },
  {
   "cell_type": "code",
   "execution_count": 17,
   "id": "42b24e61",
   "metadata": {
    "slideshow": {
     "slide_type": "subslide"
    },
    "tags": []
   },
   "outputs": [
    {
     "data": {
      "text/plain": [
       "1"
      ]
     },
     "execution_count": 17,
     "metadata": {},
     "output_type": "execute_result"
    }
   ],
   "source": [
    "DamerauLevenshteinReglable(costAdd=1, costSuppr=1, costSubst=1, costTransp=1, multProxi=1)(\"retame\")(\"ertame\")"
   ]
  },
  {
   "cell_type": "markdown",
   "id": "6b04210c-11d3-478c-bc14-40082fb6ea9d",
   "metadata": {
    "slideshow": {
     "slide_type": "subslide"
    },
    "tags": []
   },
   "source": [
    "Pour tester quelques valeurs à titre d'exemples, on a décidé de les comparer avec l'interface.\n",
    "Vous pouvez voir les configurations utilisées directement dans le code suivant:"
   ]
  },
  {
   "cell_type": "code",
   "execution_count": 18,
   "id": "fa8a72c6",
   "metadata": {
    "slideshow": {
     "slide_type": "fragment"
    },
    "tags": []
   },
   "outputs": [
    {
     "data": {
      "application/vnd.jupyter.widget-view+json": {
       "model_id": "f86812b764ce48ef8002bb400c7d6dd2",
       "version_major": 2,
       "version_minor": 0
      },
      "text/plain": [
       "Text(value='', _dom_classes=('custom-size',))"
      ]
     },
     "metadata": {},
     "output_type": "display_data"
    },
    {
     "data": {
      "application/vnd.jupyter.widget-view+json": {
       "model_id": "6dbca5700d4d4b768789e2ea1a7e9d4b",
       "version_major": 2,
       "version_minor": 0
      },
      "text/plain": [
       "GridspecLayout(children=(Label(value='Damerau-Levenshtein-Reglable', layout=Layout(grid_area='widget001'), _do…"
      ]
     },
     "metadata": {},
     "output_type": "display_data"
    }
   ],
   "source": [
    "utils.displayComparaisonInterface(\n",
    "    utils.getPredictions,\n",
    "    DamerauLevenshteinReglable(costAdd=1, costSuppr=1, costSubst=1, costTransp=1, multProxi=1),\n",
    "    DamerauLevenshteinReglable(costAdd=2, costSuppr=2, costSubst=3, costTransp=1, multProxi=1),\n",
    "    DamerauLevenshteinReglable(costAdd=2, costSuppr=2, costSubst=3, costTransp=2, multProxi=0),\n",
    "    DamerauLevenshteinReglable(costAdd=1, costSuppr=1, costSubst=2, costTransp=2, multProxi=1),\n",
    ")"
   ]
  },
  {
   "cell_type": "markdown",
   "id": "7cf919dd-bade-4d4e-93c4-ae0b3da07c57",
   "metadata": {
    "slideshow": {
     "slide_type": "fragment"
    },
    "tags": []
   },
   "source": [
    "On peut remarquer que la configuration de la colonne 2 est assez prometteuse.\n",
    "Pourrez vous trouver une meilleure configuration que nous ?"
   ]
  },
  {
   "cell_type": "markdown",
   "id": "c1544ea6",
   "metadata": {
    "jp-MarkdownHeadingCollapsed": true,
    "slideshow": {
     "slide_type": "slide"
    },
    "tags": []
   },
   "source": [
    "## Chaînes de markov <a class=\"anchor\" id=\"chaine-markov\"></a>"
   ]
  },
  {
   "cell_type": "markdown",
   "id": "d6de4c47-c6cb-4fab-97ce-dd10cc37c3d5",
   "metadata": {
    "slideshow": {
     "slide_type": "fragment"
    },
    "tags": []
   },
   "source": [
    "Une chaîne de Markov est un processus stochastique possédant la propriété de Markov.\n",
    "Soit un système pouvant passer d'états en états par l'intermédiaire de transition, il suit la propriété de Markov si la prédiction de l'état futur après transition dépend uniquement de l'état présent. La prédiction est indépendante des états précédants.\n",
    "Ainsi mathématiquement, la probabilité s'écrit $\\mathbb{P}(X_{n+1}=a | X_{n}=b)$ avec $a$ et $b$ deux états quelconques.\n",
    "\n",
    "<div>\n",
    "<img src=\"https://raw.githubusercontent.com/thebosslol66/Recherche-Documentaire-Completion-automatique/master/img/markovChaine.png\" alt=\"Exemple de chaîne de Markov\" title=\"Exemple de chaîne de Markov\" width=\"200\" height=\"200\">\n",
    "</div>\n",
    "\n",
    "Une chaîne de Markov peut être modèlisée sous forme graphe mais aussi sous forme de matrice.\n",
    "$\\begin{Bmatrix} \\textbf{0.3} & 0.7 \\\\ 0.4 & \\textbf{0.6} \\end{Bmatrix}$\n",
    "\n",
    "Dans notre cas : état = mot"
   ]
  },
  {
   "cell_type": "markdown",
   "id": "c577c7f3-144f-41df-a0b3-601852f05ac6",
   "metadata": {
    "slideshow": {
     "slide_type": "subslide"
    },
    "tags": []
   },
   "source": [
    "#### Les chaînes de Markov d'ordre n\n",
    "\n",
    "Consiste à baser la prédiction non plus sur l'état présent mais sur les n derniers états, état présent inclu. Ainsi une chaîne de Markov \"de base\" est d'ordre 1. Dans notre situation la prédiction d'un mot se baserait sur les n mots précédents.\n",
    "Si l'on prend l'exemple de l'ordre k=3, alors la probabilité s'écrit $\\mathbb{P}(X_{n+1}=a | X_{n}=b , X_{n-1}=c , X_{n-2}=d)$.\n",
    "\n",
    "Conséquences :\n",
    "* La prédiction aura potentiellement une meilleure précision\n",
    "* Cela demande beaucoup plus de données"
   ]
  },
  {
   "cell_type": "markdown",
   "id": "38029cf5-a581-449c-b77f-06a3ae6b99a8",
   "metadata": {
    "slideshow": {
     "slide_type": "fragment"
    },
    "tags": []
   },
   "source": [
    "Dans la fonction ci dessous on prend une base de données composée de phrases en français.\n",
    "Puis on définit l'ordre maximale des chaînes de Markov ici 3.\n",
    "\n",
    "On entraine ensuite le modèle. C'est un modèle simple, *markov_model* a pour clé l'ordre de la chaine.\n",
    "\n",
    "Pour chaque ordre de chaîne de Markov on a les états initiaux en clé et une liste d'états futurs avec leur nombre d'apparitions dans la base de données d'entrainement."
   ]
  },
  {
   "cell_type": "code",
   "execution_count": 19,
   "id": "a4d1e019",
   "metadata": {
    "slideshow": {
     "slide_type": "subslide"
    },
    "tags": []
   },
   "outputs": [
    {
     "data": {
      "application/vnd.jupyter.widget-view+json": {
       "model_id": "cf91a1db6d22400fa35992e86341933d",
       "version_major": 2,
       "version_minor": 0
      },
      "text/plain": [
       "IntProgress(value=0, bar_style='info', description='Create markov model:', max=8280, style=ProgressStyle(bar_c…"
      ]
     },
     "metadata": {},
     "output_type": "display_data"
    }
   ],
   "source": [
    "with open(\"data/train_text.txt\", \"r\") as f:\n",
    "    data = f.read()\n",
    "sentences = utils.data_file_to_sentences(data)\n",
    "\n",
    "max_order = 3\n",
    "markov_model = []\n",
    "for i in range(max_order):\n",
    "    markov_model.append(dict())\n",
    "\n",
    "pbar = utils.create_progress_bar_training_markov(sentences)\n",
    "\n",
    "for s in sentences:\n",
    "    words = s.split(\" \")\n",
    "    words = utils.remove_empty_words(words)\n",
    "    if len(words) == 0:\n",
    "        continue\n",
    "    for i in range(len(words)):\n",
    "        for j in range(0, min(i, max_order)):\n",
    "            utils.update_occ(\n",
    "                markov_model[j],\n",
    "                \" \".join([words[i - k] for k in range(j + 1, 0, -1)]),\n",
    "                words[i],\n",
    "            )\n",
    "    pbar.value += len(words)"
   ]
  },
  {
   "cell_type": "markdown",
   "id": "0d83356a-69d9-4ba4-bb5c-4a26ff51ac33",
   "metadata": {
    "slideshow": {
     "slide_type": "subslide"
    },
    "tags": []
   },
   "source": [
    "Maintenant que l'on a entrainé notre modèle, on va pouvoir commencer à s'amuser.\n",
    "Par exemple, on peut essayer de prédire le mot suivant avec les chaînes de Markov.\n",
    "\n",
    "Le problème que rencontre notre algorithme pour produire des prédictions correctes est simplement dû au manque de données d'entrainement.\n",
    "Nous n'avons que 300 phrases ce qui amène à des propositions limitées."
   ]
  },
  {
   "cell_type": "code",
   "execution_count": 20,
   "id": "b37d3b27",
   "metadata": {
    "slideshow": {
     "slide_type": "subslide"
    },
    "tags": []
   },
   "outputs": [
    {
     "name": "stdout",
     "output_type": "stream",
     "text": [
      "Bout de texte initial :  physique à très \n",
      "\n",
      "Chaine de markov d'ordre 3: physique à très\n",
      "petite : 100.00%\n",
      "\n",
      "Chaine de markov d'ordre 2: à très\n",
      "grande : 33.33%\n",
      "petite : 66.67%\n",
      "\n",
      "Chaine de markov d'ordre 1: très\n",
      "proche : 8.33%\n",
      "différentes : 8.33%\n",
      "grande : 8.33%\n",
      "nombreuses : 8.33%\n",
      "accélérée : 8.33%\n",
      "\n"
     ]
    }
   ],
   "source": [
    "text = random.choice(list(markov_model[max_order - 1].keys()))\n",
    "# text = \"mais ne boudons pas\"\n",
    "\n",
    "print(\"Bout de texte initial : \", text, \"\\n\")\n",
    "text = text.split(\" \")\n",
    "text_len = len(text)\n",
    "for i in range(min(len(text), max_order), 0, -1):\n",
    "    t = \" \".join(text[-i:])\n",
    "    print(\"Chaine de markov d'ordre {}: {}\".format(i, t))\n",
    "    if t in markov_model[i - 1].keys():\n",
    "        s = sorted(markov_model[i - 1][t].items(), key=lambda item: item[1])\n",
    "        total = sum(markov_model[i - 1][t].values())\n",
    "        for j in range(0, min(len(s), 5)):\n",
    "            print(\"{} : {:.2f}%\".format(s[j][0], (s[j][1] / total) * 100))\n",
    "    else:\n",
    "        print(\"Aucune proposition disponible\")\n",
    "    print()"
   ]
  },
  {
   "cell_type": "markdown",
   "id": "30041647-0487-4e44-bf68-e54a7522f931",
   "metadata": {
    "slideshow": {
     "slide_type": "subslide"
    },
    "tags": []
   },
   "source": [
    "Avec les chaînes de markov, on peut aussi faire de la complétion automatique.\n",
    "En revanche le sens des phrases est perdu. Comme cet algorithme ne prend pas en compte le passé, il écrit juste en fonction des mots qu'il se souvient.\n",
    "Dans notre cas c'est seulement 3 mot qu'il peut utiliser pour faire sa prédiction."
   ]
  },
  {
   "cell_type": "code",
   "execution_count": 21,
   "id": "ffccc813",
   "metadata": {
    "slideshow": {
     "slide_type": "fragment"
    },
    "tags": []
   },
   "outputs": [
    {
     "name": "stdout",
     "output_type": "stream",
     "text": [
      "physique à très petite échelle celle des mondes multiples décrite par le remboursement de ses portes de garages et rideaux de commerçants graffités\n"
     ]
    }
   ],
   "source": [
    "# generate at most 100 words:\n",
    "for i in range(200):\n",
    "\n",
    "    last_idx = text_len - 1\n",
    "\n",
    "    tmp = text[last_idx - 1] + \" \" + text[last_idx]\n",
    "    if tmp in markov_model[1]:\n",
    "        new_word = utils.gen_random_from_tbl(markov_model[1][tmp])\n",
    "    else:\n",
    "        # fall-back to 1st order\n",
    "        tmp2 = text[last_idx]\n",
    "        if tmp2 not in markov_model[0]:\n",
    "            # dead-end\n",
    "            break\n",
    "        new_word = utils.gen_random_from_tbl(markov_model[0][tmp2])\n",
    "\n",
    "    text.append(new_word)\n",
    "    text_len = text_len + 1\n",
    "\n",
    "print(\" \".join(text))"
   ]
  },
  {
   "cell_type": "markdown",
   "id": "b10bdce0-0222-4564-85c7-9946081098da",
   "metadata": {
    "jp-MarkdownHeadingCollapsed": true,
    "slideshow": {
     "slide_type": "slide"
    },
    "tags": []
   },
   "source": [
    "## Pour conclure <a class=\"anchor\" id=\"conclusion\"></a>"
   ]
  },
  {
   "cell_type": "markdown",
   "id": "765c3c64-e70a-40fc-b2e3-78a6c5f0b0d2",
   "metadata": {
    "slideshow": {
     "slide_type": "fragment"
    },
    "tags": []
   },
   "source": [
    "Dans nos petites démonstrations on a vu les principes de base qui sont sûrement encore utilisés par nos téléphones ou par les compléteurs de code mais plus trop avec le language dit 'naturel'.\n",
    "Maintenant les algorithmes performants reposent sur des réseaux de neurones ayant été entrainés sur de très grosse bases de données. (530 Go pour GPT-3)\n",
    "\n",
    "Pour aller plus loin vous pouvez utiliser une plus grosse base de données pour les phrases et ajouter un algorithme de distance sur les résultats afin d'obtenir de bon résultats de prédiction.\n",
    "\n",
    "Pour aller encore plus loin on pourrait implémenter un petit réseau de neurone et l'entrainer pour voir quels resultats il aurait pu nous fournir.\n",
    "Cependant nous n'avons pas pu le faire par manque de temps."
   ]
  },
  {
   "cell_type": "markdown",
   "id": "0c8ef906-d132-4905-8b7a-acf1b49ae780",
   "metadata": {
    "slideshow": {
     "slide_type": "subslide"
    },
    "tags": []
   },
   "source": [
    "### Acceder à ce notebook interactif\n",
    "<div>\n",
    "<img src=\"https://raw.githubusercontent.com/thebosslol66/Recherche-Documentaire-Completion-automatique/master/img/link.png\" alt=\"Allez tester\" title=\"Allez tester\" width=\"500\" height=\"500\" style=\"margin:auto;\">\n",
    "</div>"
   ]
  }
 ],
 "metadata": {
  "celltoolbar": "Slideshow",
  "kernelspec": {
   "display_name": "Python 3 (ipykernel)",
   "language": "python",
   "name": "python3"
  },
  "language_info": {
   "codemirror_mode": {
    "name": "ipython",
    "version": 3
   },
   "file_extension": ".py",
   "mimetype": "text/x-python",
   "name": "python",
   "nbconvert_exporter": "python",
   "pygments_lexer": "ipython3",
   "version": "3.8.10"
  },
  "rise": {
   "auto_select": "code",
   "auto_select_fragment": true,
   "progress": true,
   "scroll": true,
   "slideNumber": "c/t",
   "start_slideshow_at": "beginning",
   "theme": "beige"
  },
  "toc-autonumbering": false,
  "toc-showcode": false,
  "toc-showmarkdowntxt": false,
  "toc-showtags": false,
  "traitlet_configuration": {
   "resources": {
    "reveal": {
     "auto_select": "code",
     "auto_select_fragment": true,
     "progress": true,
     "scroll": true,
     "start_slideshow_at": "beginning",
     "theme": "beige"
    }
   }
  },
  "widgets": {
   "application/vnd.jupyter.widget-state+json": {
    "state": {
     "03738863e27b4c5982545468d156c697": {
      "model_module": "@jupyter-widgets/controls",
      "model_module_version": "1.5.0",
      "model_name": "DescriptionStyleModel",
      "state": {
       "description_width": ""
      }
     },
     "03df34adb80b42c7acd9726c87dd2711": {
      "model_module": "@jupyter-widgets/controls",
      "model_module_version": "1.5.0",
      "model_name": "LabelModel",
      "state": {
       "_dom_classes": [
        "custom-size"
       ],
       "layout": "IPY_MODEL_6777f3cd592b447f867e47794846e6da",
       "style": "IPY_MODEL_518ab878fafb4e32b6bffbc4dbc3c5d7"
      }
     },
     "04b4868e80c64c5181dd0dde643449a6": {
      "model_module": "@jupyter-widgets/controls",
      "model_module_version": "1.5.0",
      "model_name": "LabelModel",
      "state": {
       "_dom_classes": [
        "custom-size"
       ],
       "layout": "IPY_MODEL_88d38daf4e294caa970423ec8ac4fe31",
       "style": "IPY_MODEL_398d0469350746649ecb2fbdb7f440c2"
      }
     },
     "04e6f51d71554e3a8f714dce58522e41": {
      "model_module": "@jupyter-widgets/controls",
      "model_module_version": "1.5.0",
      "model_name": "DescriptionStyleModel",
      "state": {
       "description_width": ""
      }
     },
     "05741426fd9549a5bd7382f71fc84f94": {
      "model_module": "@jupyter-widgets/controls",
      "model_module_version": "1.5.0",
      "model_name": "LabelModel",
      "state": {
       "_dom_classes": [
        "custom-size"
       ],
       "layout": "IPY_MODEL_a386da35ab8f45459803d3e7956dfd11",
       "style": "IPY_MODEL_945c84bbd31641d8819b7fa9aeeacbdf"
      }
     },
     "05b8d71793b44e17b77d89175a03d13f": {
      "model_module": "@jupyter-widgets/base",
      "model_module_version": "1.2.0",
      "model_name": "LayoutModel",
      "state": {
       "grid_template_areas": "\". widget001 widget002 widget003 widget004\"\n\"widget005 widget006 widget007 widget008 widget009\"\n\"widget010 widget011 widget012 widget013 widget014\"\n\"widget015 widget016 widget017 widget018 widget019\"\n\"widget020 widget021 widget022 widget023 widget024\"",
       "grid_template_columns": "repeat(5, 1fr)",
       "grid_template_rows": "repeat(5, 1fr)"
      }
     },
     "05d82a2e8c6549b591d86592ff1eee12": {
      "model_module": "@jupyter-widgets/controls",
      "model_module_version": "1.5.0",
      "model_name": "LabelModel",
      "state": {
       "_dom_classes": [
        "custom-size"
       ],
       "layout": "IPY_MODEL_c355250dc3b9415aa594135b75357a6c",
       "style": "IPY_MODEL_c3bd09c5cbbf4d3bb28b4c822bd65b04"
      }
     },
     "0709528320d444c88a57a9249869f916": {
      "model_module": "@jupyter-widgets/base",
      "model_module_version": "1.2.0",
      "model_name": "LayoutModel",
      "state": {
       "grid_area": "widget023"
      }
     },
     "086cd201bd6b403b8707a956a5981c9c": {
      "model_module": "@jupyter-widgets/base",
      "model_module_version": "1.2.0",
      "model_name": "LayoutModel",
      "state": {
       "grid_area": "widget006"
      }
     },
     "131a4767f675450796f7f379651f4236": {
      "model_module": "@jupyter-widgets/controls",
      "model_module_version": "1.5.0",
      "model_name": "DescriptionStyleModel",
      "state": {
       "description_width": ""
      }
     },
     "13a886bf28184b2584fee3b2c6d6c69b": {
      "model_module": "@jupyter-widgets/controls",
      "model_module_version": "1.5.0",
      "model_name": "DescriptionStyleModel",
      "state": {
       "description_width": ""
      }
     },
     "15b8ad58234a4f66828b1da6b0bf4e3f": {
      "model_module": "@jupyter-widgets/controls",
      "model_module_version": "1.5.0",
      "model_name": "DescriptionStyleModel",
      "state": {
       "description_width": ""
      }
     },
     "16b6e21f59324f25b83f906b570b8298": {
      "model_module": "@jupyter-widgets/controls",
      "model_module_version": "1.5.0",
      "model_name": "DescriptionStyleModel",
      "state": {
       "description_width": ""
      }
     },
     "16f02926b5bb430caabe1cf8d3e86c93": {
      "model_module": "@jupyter-widgets/controls",
      "model_module_version": "1.5.0",
      "model_name": "DescriptionStyleModel",
      "state": {
       "description_width": ""
      }
     },
     "1b1a37584d434408ad042b071b7dc957": {
      "model_module": "@jupyter-widgets/controls",
      "model_module_version": "1.5.0",
      "model_name": "LabelModel",
      "state": {
       "_dom_classes": [
        "custom-size"
       ],
       "layout": "IPY_MODEL_bd717f8cfa6d49c181aa55cc84ff28d1",
       "style": "IPY_MODEL_6fb766e1b5a44b258f7c1a74c3ac27b9",
       "value": "3"
      }
     },
     "1b3cae31f37848e494100a541a882917": {
      "model_module": "@jupyter-widgets/controls",
      "model_module_version": "1.5.0",
      "model_name": "DescriptionStyleModel",
      "state": {
       "description_width": ""
      }
     },
     "1c552964ea6242efabf4eb252c907fcd": {
      "model_module": "@jupyter-widgets/controls",
      "model_module_version": "1.5.0",
      "model_name": "DescriptionStyleModel",
      "state": {
       "description_width": ""
      }
     },
     "1def6073494a4fe7a9d4491491310a12": {
      "model_module": "@jupyter-widgets/controls",
      "model_module_version": "1.5.0",
      "model_name": "DescriptionStyleModel",
      "state": {
       "description_width": ""
      }
     },
     "1e4c637329ad45b9a25d5ecf9f9d4961": {
      "model_module": "@jupyter-widgets/controls",
      "model_module_version": "1.5.0",
      "model_name": "DescriptionStyleModel",
      "state": {
       "description_width": ""
      }
     },
     "1e7bfe8b0a3244fba674e1b47195c5a7": {
      "model_module": "@jupyter-widgets/base",
      "model_module_version": "1.2.0",
      "model_name": "LayoutModel",
      "state": {
       "grid_area": "widget017"
      }
     },
     "21134945b1e64a389961892a57c199e0": {
      "model_module": "@jupyter-widgets/base",
      "model_module_version": "1.2.0",
      "model_name": "LayoutModel",
      "state": {
       "grid_area": "widget010"
      }
     },
     "22b8951668554c2ba96c3619ef09c2eb": {
      "model_module": "@jupyter-widgets/base",
      "model_module_version": "1.2.0",
      "model_name": "LayoutModel",
      "state": {
       "grid_area": "widget001"
      }
     },
     "2687098b323d4d48824427c1a8b394e4": {
      "model_module": "@jupyter-widgets/controls",
      "model_module_version": "1.5.0",
      "model_name": "DescriptionStyleModel",
      "state": {
       "description_width": ""
      }
     },
     "279cfd7045f547aab7521650c69d38f0": {
      "model_module": "@jupyter-widgets/controls",
      "model_module_version": "1.5.0",
      "model_name": "GridBoxModel",
      "state": {
       "children": [
        "IPY_MODEL_ee2ba1f75b0a49518d31fba162e1ee25",
        "IPY_MODEL_3d08a3ee71c34d439ae2798910a6eb72",
        "IPY_MODEL_8498c1a47e794d5996c18b8e363d3ce3",
        "IPY_MODEL_bbc99424abf04271ab650a3a2cea6d33",
        "IPY_MODEL_ddec4ee37a1942b084ec3094039dde5d",
        "IPY_MODEL_9158617630bd4c0096ab986d3cc8da68",
        "IPY_MODEL_d3cf0a7c938647268b7c00a0bd57345a",
        "IPY_MODEL_d62ff17164534775b0990888d8251669",
        "IPY_MODEL_e1f392817bf94116942d880bab3b4ee5",
        "IPY_MODEL_ec88a98a4a264688824d46a50d8a957e",
        "IPY_MODEL_b2cc91670c2b4250a4baf02031ed72f7",
        "IPY_MODEL_e19f3b76efd84c82a472062ec7eecc00",
        "IPY_MODEL_9dfa87b605de4269857610dce6e0ce6d",
        "IPY_MODEL_8d85439f7fc445e9a69b456861a4c932",
        "IPY_MODEL_1b1a37584d434408ad042b071b7dc957",
        "IPY_MODEL_04b4868e80c64c5181dd0dde643449a6",
        "IPY_MODEL_efa27402b8bf4157aadd04e915a07cf5",
        "IPY_MODEL_4b2da594133449ae8dbdb78dbe0aeceb",
        "IPY_MODEL_388af500c9e048c8ae924fef1f7331e3",
        "IPY_MODEL_ecb558c053a24e08bae6198d092470aa",
        "IPY_MODEL_a0d8fcae96254b1e8ebc08a17f127daa",
        "IPY_MODEL_9637af74c55d47dc822568ab095171a3",
        "IPY_MODEL_c0d3d2f401dc42a5b46e74169936bd2f",
        "IPY_MODEL_05741426fd9549a5bd7382f71fc84f94"
       ],
       "layout": "IPY_MODEL_05b8d71793b44e17b77d89175a03d13f"
      }
     },
     "2bebb2f2aaab4a1bb17de23edc82b763": {
      "model_module": "@jupyter-widgets/controls",
      "model_module_version": "1.5.0",
      "model_name": "TextModel",
      "state": {
       "layout": "IPY_MODEL_e219feea05534152b1ea86c9a4e163e9",
       "style": "IPY_MODEL_15b8ad58234a4f66828b1da6b0bf4e3f"
      }
     },
     "2bf6d3e3bda54126863d547c0aca8e1c": {
      "model_module": "@jupyter-widgets/controls",
      "model_module_version": "1.5.0",
      "model_name": "DescriptionStyleModel",
      "state": {
       "description_width": ""
      }
     },
     "2ddd712c6c894760ac51573796e7a465": {
      "model_module": "@jupyter-widgets/controls",
      "model_module_version": "1.5.0",
      "model_name": "DescriptionStyleModel",
      "state": {
       "description_width": ""
      }
     },
     "2ecaff4375e548ae9f8e15b6b42aca38": {
      "model_module": "@jupyter-widgets/base",
      "model_module_version": "1.2.0",
      "model_name": "LayoutModel",
      "state": {}
     },
     "2ee60356c5b84540a6e1dbf128f1011b": {
      "model_module": "@jupyter-widgets/controls",
      "model_module_version": "1.5.0",
      "model_name": "DescriptionStyleModel",
      "state": {
       "description_width": ""
      }
     },
     "2fc11bf9432a45b7a77da312e652dabc": {
      "model_module": "@jupyter-widgets/base",
      "model_module_version": "1.2.0",
      "model_name": "LayoutModel",
      "state": {
       "grid_area": "widget024"
      }
     },
     "3306c420d4b84e51876015e3fc3c52bf": {
      "model_module": "@jupyter-widgets/controls",
      "model_module_version": "1.5.0",
      "model_name": "DescriptionStyleModel",
      "state": {
       "description_width": ""
      }
     },
     "33e1f244977f4f1fa28a471af275a117": {
      "model_module": "@jupyter-widgets/controls",
      "model_module_version": "1.5.0",
      "model_name": "DescriptionStyleModel",
      "state": {
       "description_width": ""
      }
     },
     "359d2b5f2a2640a89f586d0d7c8ba0dc": {
      "model_module": "@jupyter-widgets/base",
      "model_module_version": "1.2.0",
      "model_name": "LayoutModel",
      "state": {
       "grid_area": "widget014"
      }
     },
     "388af500c9e048c8ae924fef1f7331e3": {
      "model_module": "@jupyter-widgets/controls",
      "model_module_version": "1.5.0",
      "model_name": "LabelModel",
      "state": {
       "_dom_classes": [
        "custom-size"
       ],
       "layout": "IPY_MODEL_e2ff92db0e8b432583517b593da87f58",
       "style": "IPY_MODEL_3306c420d4b84e51876015e3fc3c52bf"
      }
     },
     "398d0469350746649ecb2fbdb7f440c2": {
      "model_module": "@jupyter-widgets/controls",
      "model_module_version": "1.5.0",
      "model_name": "DescriptionStyleModel",
      "state": {
       "description_width": ""
      }
     },
     "3c6deb24de5f4fad9ee3fe69f725614a": {
      "model_module": "@jupyter-widgets/controls",
      "model_module_version": "1.5.0",
      "model_name": "LabelModel",
      "state": {
       "_dom_classes": [
        "custom-size"
       ],
       "layout": "IPY_MODEL_c0452cd663d54264ae2e3d2cfc9b54a0",
       "style": "IPY_MODEL_16b6e21f59324f25b83f906b570b8298",
       "value": "Damerau-Levenshtein-Reglable"
      }
     },
     "3d08a3ee71c34d439ae2798910a6eb72": {
      "model_module": "@jupyter-widgets/controls",
      "model_module_version": "1.5.0",
      "model_name": "LabelModel",
      "state": {
       "_dom_classes": [
        "custom-size"
       ],
       "layout": "IPY_MODEL_caa9895f901f43719f86f68d0a07d27b",
       "style": "IPY_MODEL_765fee5f15d74396a0e0361760eff4b6",
       "value": "Damerau-Levenshtein"
      }
     },
     "3dcb2be6c0fe4889bd5295ed017ab55b": {
      "model_module": "@jupyter-widgets/base",
      "model_module_version": "1.2.0",
      "model_name": "LayoutModel",
      "state": {
       "grid_area": "widget019"
      }
     },
     "3e2c35becdfe48e28214d4f12034de11": {
      "model_module": "@jupyter-widgets/controls",
      "model_module_version": "1.5.0",
      "model_name": "LabelModel",
      "state": {
       "_dom_classes": [
        "custom-size"
       ],
       "layout": "IPY_MODEL_a77350943cb8498b9d83948663ebbeaa",
       "style": "IPY_MODEL_1e4c637329ad45b9a25d5ecf9f9d4961",
       "value": "3"
      }
     },
     "4119843518114b268df0b435bb485ba6": {
      "model_module": "@jupyter-widgets/base",
      "model_module_version": "1.2.0",
      "model_name": "LayoutModel",
      "state": {
       "grid_area": "widget021"
      }
     },
     "44ec8bd918c0456092ee56d18f9f2873": {
      "model_module": "@jupyter-widgets/base",
      "model_module_version": "1.2.0",
      "model_name": "LayoutModel",
      "state": {
       "grid_area": "widget005"
      }
     },
     "45c47dea95d74f03bbe4a4ffe55e5266": {
      "model_module": "@jupyter-widgets/controls",
      "model_module_version": "1.5.0",
      "model_name": "DescriptionStyleModel",
      "state": {
       "description_width": ""
      }
     },
     "478d905ad1d64cbd854c6179d40f80aa": {
      "model_module": "@jupyter-widgets/controls",
      "model_module_version": "1.5.0",
      "model_name": "ProgressStyleModel",
      "state": {
       "bar_color": "blue",
       "description_width": ""
      }
     },
     "48287701ee324d418a941ba91fc2086c": {
      "model_module": "@jupyter-widgets/controls",
      "model_module_version": "1.5.0",
      "model_name": "TextModel",
      "state": {
       "_dom_classes": [
        "custom-size"
       ],
       "layout": "IPY_MODEL_2ecaff4375e548ae9f8e15b6b42aca38",
       "style": "IPY_MODEL_de4563207a3547b48b512a8afc12f033"
      }
     },
     "4ac43c7ec2274bfaa3041ea51279c9c8": {
      "model_module": "@jupyter-widgets/controls",
      "model_module_version": "1.5.0",
      "model_name": "LabelModel",
      "state": {
       "_dom_classes": [
        "custom-size"
       ],
       "layout": "IPY_MODEL_85a310d3d8b24434bc43b9198ff539b1",
       "style": "IPY_MODEL_aa2fd23dfa6e4defb72cbf241a4e7355"
      }
     },
     "4b2da594133449ae8dbdb78dbe0aeceb": {
      "model_module": "@jupyter-widgets/controls",
      "model_module_version": "1.5.0",
      "model_name": "LabelModel",
      "state": {
       "_dom_classes": [
        "custom-size"
       ],
       "layout": "IPY_MODEL_7d499b3e55c74206a528b57a8be3b87a",
       "style": "IPY_MODEL_fb0b558124b24591943c658711ffd73b"
      }
     },
     "518ab878fafb4e32b6bffbc4dbc3c5d7": {
      "model_module": "@jupyter-widgets/controls",
      "model_module_version": "1.5.0",
      "model_name": "DescriptionStyleModel",
      "state": {
       "description_width": ""
      }
     },
     "54b6dbe4339042baadf9737f4a00c0b0": {
      "model_module": "@jupyter-widgets/controls",
      "model_module_version": "1.5.0",
      "model_name": "LabelModel",
      "state": {
       "_dom_classes": [
        "custom-size"
       ],
       "layout": "IPY_MODEL_4119843518114b268df0b435bb485ba6",
       "style": "IPY_MODEL_a5b902ac0cf3425da6c48c9794561e48"
      }
     },
     "54fb909ca2b64a058e084b43c1452227": {
      "model_module": "@jupyter-widgets/controls",
      "model_module_version": "1.5.0",
      "model_name": "DescriptionStyleModel",
      "state": {
       "description_width": ""
      }
     },
     "5613db1b02374d62980fb0043f93e391": {
      "model_module": "@jupyter-widgets/controls",
      "model_module_version": "1.5.0",
      "model_name": "LabelModel",
      "state": {
       "_dom_classes": [
        "custom-size"
       ],
       "layout": "IPY_MODEL_5d6823dcdbd94467bd2cfee7fc6428ff",
       "style": "IPY_MODEL_96d6b99c10c34d288d46c7a441d53264"
      }
     },
     "5763f65e943b409e980ab2cab06b8d8c": {
      "model_module": "@jupyter-widgets/controls",
      "model_module_version": "1.5.0",
      "model_name": "LabelModel",
      "state": {
       "_dom_classes": [
        "custom-size"
       ],
       "layout": "IPY_MODEL_77f3f107a1794d90a49fd967f328c796",
       "style": "IPY_MODEL_8429398700924633a4a328211bb4313b"
      }
     },
     "588081b6f10a4c7894d0d65736a7ac7d": {
      "model_module": "@jupyter-widgets/controls",
      "model_module_version": "1.5.0",
      "model_name": "LabelModel",
      "state": {
       "_dom_classes": [
        "custom-size"
       ],
       "layout": "IPY_MODEL_086cd201bd6b403b8707a956a5981c9c",
       "style": "IPY_MODEL_9775f7415b3c4c77b6ab11fa9f59c7ef"
      }
     },
     "59111ec7dca14cc285dc848d698c97ba": {
      "model_module": "@jupyter-widgets/base",
      "model_module_version": "1.2.0",
      "model_name": "LayoutModel",
      "state": {
       "grid_area": "widget013"
      }
     },
     "5b81ba8135824ba68e6000ecb3b1456f": {
      "model_module": "@jupyter-widgets/controls",
      "model_module_version": "1.5.0",
      "model_name": "LabelModel",
      "state": {
       "_dom_classes": [
        "custom-size"
       ],
       "layout": "IPY_MODEL_e7a40dd02bd747cc802566900acebcb9",
       "style": "IPY_MODEL_d39e76bdf6f74c848eeae57f018ec07a"
      }
     },
     "5d5e15dcde8c4ad4a37b611b13eaccee": {
      "model_module": "@jupyter-widgets/base",
      "model_module_version": "1.2.0",
      "model_name": "LayoutModel",
      "state": {
       "grid_area": "widget004"
      }
     },
     "5d6823dcdbd94467bd2cfee7fc6428ff": {
      "model_module": "@jupyter-widgets/base",
      "model_module_version": "1.2.0",
      "model_name": "LayoutModel",
      "state": {
       "grid_area": "widget009"
      }
     },
     "5e50167949974badaa4c6693d4ad4e9e": {
      "model_module": "@jupyter-widgets/controls",
      "model_module_version": "1.5.0",
      "model_name": "LabelModel",
      "state": {
       "_dom_classes": [
        "custom-size"
       ],
       "layout": "IPY_MODEL_359d2b5f2a2640a89f586d0d7c8ba0dc",
       "style": "IPY_MODEL_1def6073494a4fe7a9d4491491310a12"
      }
     },
     "5eb31bb5eaae4e89a6c9019ed71af9b7": {
      "model_module": "@jupyter-widgets/controls",
      "model_module_version": "1.5.0",
      "model_name": "DescriptionStyleModel",
      "state": {
       "description_width": ""
      }
     },
     "5f237a2f182944e19fe89c9a1b08e5f1": {
      "model_module": "@jupyter-widgets/controls",
      "model_module_version": "1.5.0",
      "model_name": "DescriptionStyleModel",
      "state": {
       "description_width": ""
      }
     },
     "5f639762aca243ed9fd54baaabb4aaba": {
      "model_module": "@jupyter-widgets/base",
      "model_module_version": "1.2.0",
      "model_name": "LayoutModel",
      "state": {}
     },
     "622cd3bf9a254c409084807c0b8dcf66": {
      "model_module": "@jupyter-widgets/base",
      "model_module_version": "1.2.0",
      "model_name": "LayoutModel",
      "state": {
       "grid_area": "widget011"
      }
     },
     "67776588b7c34eeeaf131aaf4f7977d6": {
      "model_module": "@jupyter-widgets/base",
      "model_module_version": "1.2.0",
      "model_name": "LayoutModel",
      "state": {}
     },
     "6777f3cd592b447f867e47794846e6da": {
      "model_module": "@jupyter-widgets/base",
      "model_module_version": "1.2.0",
      "model_name": "LayoutModel",
      "state": {
       "grid_area": "widget011"
      }
     },
     "6918cabab6dd4cc3b045a6dc1932016a": {
      "model_module": "@jupyter-widgets/controls",
      "model_module_version": "1.5.0",
      "model_name": "LabelModel",
      "state": {
       "_dom_classes": [
        "custom-size"
       ],
       "layout": "IPY_MODEL_c4cce9a6a5eb405886334461d67c5456",
       "style": "IPY_MODEL_1c552964ea6242efabf4eb252c907fcd",
       "value": "Damerau-Levenshtein-Reglable"
      }
     },
     "69b8525169e24debba51da08308b008e": {
      "model_module": "@jupyter-widgets/base",
      "model_module_version": "1.2.0",
      "model_name": "LayoutModel",
      "state": {
       "grid_area": "widget010"
      }
     },
     "6d73890daf8a43acb73e6d92c3266997": {
      "model_module": "@jupyter-widgets/controls",
      "model_module_version": "1.5.0",
      "model_name": "DescriptionStyleModel",
      "state": {
       "description_width": ""
      }
     },
     "6dbca5700d4d4b768789e2ea1a7e9d4b": {
      "model_module": "@jupyter-widgets/controls",
      "model_module_version": "1.5.0",
      "model_name": "GridBoxModel",
      "state": {
       "children": [
        "IPY_MODEL_3c6deb24de5f4fad9ee3fe69f725614a",
        "IPY_MODEL_9887377542dd409192eed2f683d270fb",
        "IPY_MODEL_6918cabab6dd4cc3b045a6dc1932016a",
        "IPY_MODEL_fb120a12e82e4633b872fdb4b6ff596b",
        "IPY_MODEL_cb530eaa0b434c63b5bd69823f3bc101",
        "IPY_MODEL_588081b6f10a4c7894d0d65736a7ac7d",
        "IPY_MODEL_e3cc93cfd47746779c1157d876b5711d",
        "IPY_MODEL_9db3936caf64415a8e49b1249b5ff2b6",
        "IPY_MODEL_5613db1b02374d62980fb0043f93e391",
        "IPY_MODEL_8718e462f47540638ee06e2e548d451f",
        "IPY_MODEL_03df34adb80b42c7acd9726c87dd2711",
        "IPY_MODEL_05d82a2e8c6549b591d86592ff1eee12",
        "IPY_MODEL_4ac43c7ec2274bfaa3041ea51279c9c8",
        "IPY_MODEL_5e50167949974badaa4c6693d4ad4e9e",
        "IPY_MODEL_3e2c35becdfe48e28214d4f12034de11",
        "IPY_MODEL_ed94abc3bba54af3b9ca8b4860df00ba",
        "IPY_MODEL_5b81ba8135824ba68e6000ecb3b1456f",
        "IPY_MODEL_9966b1c59b804114b2d13012d70406c8",
        "IPY_MODEL_79960f87c9e643b2adaad9169ef9829f",
        "IPY_MODEL_dfc6c14deb5c42688a045746b35b55dd",
        "IPY_MODEL_54b6dbe4339042baadf9737f4a00c0b0",
        "IPY_MODEL_5763f65e943b409e980ab2cab06b8d8c",
        "IPY_MODEL_ca9f46da761c4f87be3bc06971158101",
        "IPY_MODEL_f9340aeea08844e78b1ca2b3719441e6"
       ],
       "layout": "IPY_MODEL_a5a7d79b1c0f4707a1e61fde939d6098"
      }
     },
     "6fb766e1b5a44b258f7c1a74c3ac27b9": {
      "model_module": "@jupyter-widgets/controls",
      "model_module_version": "1.5.0",
      "model_name": "DescriptionStyleModel",
      "state": {
       "description_width": ""
      }
     },
     "71c97180cf514fd9b09ebade53a0dc3d": {
      "model_module": "@jupyter-widgets/base",
      "model_module_version": "1.2.0",
      "model_name": "LayoutModel",
      "state": {
       "grid_area": "widget008"
      }
     },
     "765fee5f15d74396a0e0361760eff4b6": {
      "model_module": "@jupyter-widgets/controls",
      "model_module_version": "1.5.0",
      "model_name": "DescriptionStyleModel",
      "state": {
       "description_width": ""
      }
     },
     "77f3f107a1794d90a49fd967f328c796": {
      "model_module": "@jupyter-widgets/base",
      "model_module_version": "1.2.0",
      "model_name": "LayoutModel",
      "state": {
       "grid_area": "widget022"
      }
     },
     "79960f87c9e643b2adaad9169ef9829f": {
      "model_module": "@jupyter-widgets/controls",
      "model_module_version": "1.5.0",
      "model_name": "LabelModel",
      "state": {
       "_dom_classes": [
        "custom-size"
       ],
       "layout": "IPY_MODEL_3dcb2be6c0fe4889bd5295ed017ab55b",
       "style": "IPY_MODEL_04e6f51d71554e3a8f714dce58522e41"
      }
     },
     "7accd1efa26e476baeef8403beea5d8b": {
      "model_module": "@jupyter-widgets/base",
      "model_module_version": "1.2.0",
      "model_name": "LayoutModel",
      "state": {}
     },
     "7d499b3e55c74206a528b57a8be3b87a": {
      "model_module": "@jupyter-widgets/base",
      "model_module_version": "1.2.0",
      "model_name": "LayoutModel",
      "state": {
       "grid_area": "widget018"
      }
     },
     "8429398700924633a4a328211bb4313b": {
      "model_module": "@jupyter-widgets/controls",
      "model_module_version": "1.5.0",
      "model_name": "DescriptionStyleModel",
      "state": {
       "description_width": ""
      }
     },
     "8498c1a47e794d5996c18b8e363d3ce3": {
      "model_module": "@jupyter-widgets/controls",
      "model_module_version": "1.5.0",
      "model_name": "LabelModel",
      "state": {
       "_dom_classes": [
        "custom-size"
       ],
       "layout": "IPY_MODEL_99d9194a9e4547b196d25960922bbf43",
       "style": "IPY_MODEL_16f02926b5bb430caabe1cf8d3e86c93",
       "value": "Jaro"
      }
     },
     "853e322e3b2648998826cf202cb9c13f": {
      "model_module": "@jupyter-widgets/controls",
      "model_module_version": "1.5.0",
      "model_name": "DescriptionStyleModel",
      "state": {
       "description_width": ""
      }
     },
     "85a310d3d8b24434bc43b9198ff539b1": {
      "model_module": "@jupyter-widgets/base",
      "model_module_version": "1.2.0",
      "model_name": "LayoutModel",
      "state": {
       "grid_area": "widget013"
      }
     },
     "8718e462f47540638ee06e2e548d451f": {
      "model_module": "@jupyter-widgets/controls",
      "model_module_version": "1.5.0",
      "model_name": "LabelModel",
      "state": {
       "_dom_classes": [
        "custom-size"
       ],
       "layout": "IPY_MODEL_21134945b1e64a389961892a57c199e0",
       "style": "IPY_MODEL_5eb31bb5eaae4e89a6c9019ed71af9b7",
       "value": "2"
      }
     },
     "878ac49eef284985be796cf3a0f60d57": {
      "model_module": "@jupyter-widgets/base",
      "model_module_version": "1.2.0",
      "model_name": "LayoutModel",
      "state": {
       "grid_area": "widget006"
      }
     },
     "88d38daf4e294caa970423ec8ac4fe31": {
      "model_module": "@jupyter-widgets/base",
      "model_module_version": "1.2.0",
      "model_name": "LayoutModel",
      "state": {
       "grid_area": "widget016"
      }
     },
     "8d85439f7fc445e9a69b456861a4c932": {
      "model_module": "@jupyter-widgets/controls",
      "model_module_version": "1.5.0",
      "model_name": "LabelModel",
      "state": {
       "_dom_classes": [
        "custom-size"
       ],
       "layout": "IPY_MODEL_a62f16ce30c941bfafb38e10d1f32cd4",
       "style": "IPY_MODEL_f2653f6e0bed49f8b7fcfda41c6a8908"
      }
     },
     "8db9dfb3e9ba4ae590bb673d488e3f19": {
      "model_module": "@jupyter-widgets/controls",
      "model_module_version": "1.5.0",
      "model_name": "DescriptionStyleModel",
      "state": {
       "description_width": ""
      }
     },
     "8e585c4785834875b7363f66f4a108f5": {
      "model_module": "@jupyter-widgets/base",
      "model_module_version": "1.2.0",
      "model_name": "LayoutModel",
      "state": {
       "grid_area": "widget007"
      }
     },
     "90cb8b1c26fa4c5cbca3c2a8cd851670": {
      "model_module": "@jupyter-widgets/base",
      "model_module_version": "1.2.0",
      "model_name": "LayoutModel",
      "state": {
       "grid_area": "widget007"
      }
     },
     "9158617630bd4c0096ab986d3cc8da68": {
      "model_module": "@jupyter-widgets/controls",
      "model_module_version": "1.5.0",
      "model_name": "LabelModel",
      "state": {
       "_dom_classes": [
        "custom-size"
       ],
       "layout": "IPY_MODEL_878ac49eef284985be796cf3a0f60d57",
       "style": "IPY_MODEL_e3fd7523d4a941c48f125bf19191b711"
      }
     },
     "945c84bbd31641d8819b7fa9aeeacbdf": {
      "model_module": "@jupyter-widgets/controls",
      "model_module_version": "1.5.0",
      "model_name": "DescriptionStyleModel",
      "state": {
       "description_width": ""
      }
     },
     "9637af74c55d47dc822568ab095171a3": {
      "model_module": "@jupyter-widgets/controls",
      "model_module_version": "1.5.0",
      "model_name": "LabelModel",
      "state": {
       "_dom_classes": [
        "custom-size"
       ],
       "layout": "IPY_MODEL_cf990f3b54cd4344a7104aba5aa485c7",
       "style": "IPY_MODEL_2687098b323d4d48824427c1a8b394e4"
      }
     },
     "96d6b99c10c34d288d46c7a441d53264": {
      "model_module": "@jupyter-widgets/controls",
      "model_module_version": "1.5.0",
      "model_name": "DescriptionStyleModel",
      "state": {
       "description_width": ""
      }
     },
     "9775f7415b3c4c77b6ab11fa9f59c7ef": {
      "model_module": "@jupyter-widgets/controls",
      "model_module_version": "1.5.0",
      "model_name": "DescriptionStyleModel",
      "state": {
       "description_width": ""
      }
     },
     "9887377542dd409192eed2f683d270fb": {
      "model_module": "@jupyter-widgets/controls",
      "model_module_version": "1.5.0",
      "model_name": "LabelModel",
      "state": {
       "_dom_classes": [
        "custom-size"
       ],
       "layout": "IPY_MODEL_b100f0c13d124d44ada594bfe57d72a5",
       "style": "IPY_MODEL_f76b9b8d2a3f42078497d725b37c1e39",
       "value": "Damerau-Levenshtein-Reglable"
      }
     },
     "9966b1c59b804114b2d13012d70406c8": {
      "model_module": "@jupyter-widgets/controls",
      "model_module_version": "1.5.0",
      "model_name": "LabelModel",
      "state": {
       "_dom_classes": [
        "custom-size"
       ],
       "layout": "IPY_MODEL_fc4de5b24a054f728da84843979b9d82",
       "style": "IPY_MODEL_853e322e3b2648998826cf202cb9c13f"
      }
     },
     "99d9194a9e4547b196d25960922bbf43": {
      "model_module": "@jupyter-widgets/base",
      "model_module_version": "1.2.0",
      "model_name": "LayoutModel",
      "state": {
       "grid_area": "widget003"
      }
     },
     "9cc15179d5d54c8d80faf1461ffc0bb4": {
      "model_module": "@jupyter-widgets/base",
      "model_module_version": "1.2.0",
      "model_name": "LayoutModel",
      "state": {
       "grid_area": "widget012"
      }
     },
     "9db3936caf64415a8e49b1249b5ff2b6": {
      "model_module": "@jupyter-widgets/controls",
      "model_module_version": "1.5.0",
      "model_name": "LabelModel",
      "state": {
       "_dom_classes": [
        "custom-size"
       ],
       "layout": "IPY_MODEL_b840bf8c83444458b3186a326781f712",
       "style": "IPY_MODEL_45c47dea95d74f03bbe4a4ffe55e5266"
      }
     },
     "9dfa87b605de4269857610dce6e0ce6d": {
      "model_module": "@jupyter-widgets/controls",
      "model_module_version": "1.5.0",
      "model_name": "LabelModel",
      "state": {
       "_dom_classes": [
        "custom-size"
       ],
       "layout": "IPY_MODEL_59111ec7dca14cc285dc848d698c97ba",
       "style": "IPY_MODEL_131a4767f675450796f7f379651f4236"
      }
     },
     "9e91c8dbf96f4b22af616c09171230f3": {
      "model_module": "@jupyter-widgets/base",
      "model_module_version": "1.2.0",
      "model_name": "LayoutModel",
      "state": {}
     },
     "9f5e7da4f6f6477aa3f039bc0f682fc4": {
      "model_module": "@jupyter-widgets/base",
      "model_module_version": "1.2.0",
      "model_name": "LayoutModel",
      "state": {
       "grid_area": "widget016"
      }
     },
     "a0d8fcae96254b1e8ebc08a17f127daa": {
      "model_module": "@jupyter-widgets/controls",
      "model_module_version": "1.5.0",
      "model_name": "LabelModel",
      "state": {
       "_dom_classes": [
        "custom-size"
       ],
       "layout": "IPY_MODEL_d55490d4b36a4805834f3b55d5fcf0ca",
       "style": "IPY_MODEL_1b3cae31f37848e494100a541a882917"
      }
     },
     "a18c58462634401da542989ac386d714": {
      "model_module": "@jupyter-widgets/controls",
      "model_module_version": "1.5.0",
      "model_name": "DescriptionStyleModel",
      "state": {
       "description_width": ""
      }
     },
     "a386da35ab8f45459803d3e7956dfd11": {
      "model_module": "@jupyter-widgets/base",
      "model_module_version": "1.2.0",
      "model_name": "LayoutModel",
      "state": {
       "grid_area": "widget024"
      }
     },
     "a5a7d79b1c0f4707a1e61fde939d6098": {
      "model_module": "@jupyter-widgets/base",
      "model_module_version": "1.2.0",
      "model_name": "LayoutModel",
      "state": {
       "grid_template_areas": "\". widget001 widget002 widget003 widget004\"\n\"widget005 widget006 widget007 widget008 widget009\"\n\"widget010 widget011 widget012 widget013 widget014\"\n\"widget015 widget016 widget017 widget018 widget019\"\n\"widget020 widget021 widget022 widget023 widget024\"",
       "grid_template_columns": "repeat(5, 1fr)",
       "grid_template_rows": "repeat(5, 1fr)"
      }
     },
     "a5b902ac0cf3425da6c48c9794561e48": {
      "model_module": "@jupyter-widgets/controls",
      "model_module_version": "1.5.0",
      "model_name": "DescriptionStyleModel",
      "state": {
       "description_width": ""
      }
     },
     "a5d183f9b6514ecc866ce65dc596afee": {
      "model_module": "@jupyter-widgets/controls",
      "model_module_version": "1.5.0",
      "model_name": "DescriptionStyleModel",
      "state": {
       "description_width": ""
      }
     },
     "a62f16ce30c941bfafb38e10d1f32cd4": {
      "model_module": "@jupyter-widgets/base",
      "model_module_version": "1.2.0",
      "model_name": "LayoutModel",
      "state": {
       "grid_area": "widget014"
      }
     },
     "a77350943cb8498b9d83948663ebbeaa": {
      "model_module": "@jupyter-widgets/base",
      "model_module_version": "1.2.0",
      "model_name": "LayoutModel",
      "state": {
       "grid_area": "widget015"
      }
     },
     "aa2fd23dfa6e4defb72cbf241a4e7355": {
      "model_module": "@jupyter-widgets/controls",
      "model_module_version": "1.5.0",
      "model_name": "DescriptionStyleModel",
      "state": {
       "description_width": ""
      }
     },
     "aaaab6f987874aa7a7b364bb291311ba": {
      "model_module": "@jupyter-widgets/controls",
      "model_module_version": "1.5.0",
      "model_name": "IntProgressModel",
      "state": {
       "description": "Loading:",
       "layout": "IPY_MODEL_67776588b7c34eeeaf131aaf4f7977d6",
       "max": 4,
       "style": "IPY_MODEL_fa38e018f8c94fc2a60b07300849ce70",
       "value": 4
      }
     },
     "afccfeca6d904a4998aea0a36958e396": {
      "model_module": "@jupyter-widgets/controls",
      "model_module_version": "1.5.0",
      "model_name": "DescriptionStyleModel",
      "state": {
       "description_width": ""
      }
     },
     "b100f0c13d124d44ada594bfe57d72a5": {
      "model_module": "@jupyter-widgets/base",
      "model_module_version": "1.2.0",
      "model_name": "LayoutModel",
      "state": {
       "grid_area": "widget002"
      }
     },
     "b2cc91670c2b4250a4baf02031ed72f7": {
      "model_module": "@jupyter-widgets/controls",
      "model_module_version": "1.5.0",
      "model_name": "LabelModel",
      "state": {
       "_dom_classes": [
        "custom-size"
       ],
       "layout": "IPY_MODEL_622cd3bf9a254c409084807c0b8dcf66",
       "style": "IPY_MODEL_d79baca00ebb4871915ac97024a6bea8"
      }
     },
     "b840bf8c83444458b3186a326781f712": {
      "model_module": "@jupyter-widgets/base",
      "model_module_version": "1.2.0",
      "model_name": "LayoutModel",
      "state": {
       "grid_area": "widget008"
      }
     },
     "bbc99424abf04271ab650a3a2cea6d33": {
      "model_module": "@jupyter-widgets/controls",
      "model_module_version": "1.5.0",
      "model_name": "LabelModel",
      "state": {
       "_dom_classes": [
        "custom-size"
       ],
       "layout": "IPY_MODEL_5d5e15dcde8c4ad4a37b611b13eaccee",
       "style": "IPY_MODEL_cd32981e1c5f4b11bc5913ae6259ba15",
       "value": "Jaro-Winkler"
      }
     },
     "bd6457f5b42f4fb48340408e81e9caf2": {
      "model_module": "@jupyter-widgets/base",
      "model_module_version": "1.2.0",
      "model_name": "LayoutModel",
      "state": {
       "grid_area": "widget023"
      }
     },
     "bd717f8cfa6d49c181aa55cc84ff28d1": {
      "model_module": "@jupyter-widgets/base",
      "model_module_version": "1.2.0",
      "model_name": "LayoutModel",
      "state": {
       "grid_area": "widget015"
      }
     },
     "bedd67b13664401a9c43f8d582d14b49": {
      "model_module": "@jupyter-widgets/controls",
      "model_module_version": "1.5.0",
      "model_name": "DescriptionStyleModel",
      "state": {
       "description_width": ""
      }
     },
     "c0452cd663d54264ae2e3d2cfc9b54a0": {
      "model_module": "@jupyter-widgets/base",
      "model_module_version": "1.2.0",
      "model_name": "LayoutModel",
      "state": {
       "grid_area": "widget001"
      }
     },
     "c0d3d2f401dc42a5b46e74169936bd2f": {
      "model_module": "@jupyter-widgets/controls",
      "model_module_version": "1.5.0",
      "model_name": "LabelModel",
      "state": {
       "_dom_classes": [
        "custom-size"
       ],
       "layout": "IPY_MODEL_0709528320d444c88a57a9249869f916",
       "style": "IPY_MODEL_df830dbc338e4c31829b5e95e1be09a5"
      }
     },
     "c355250dc3b9415aa594135b75357a6c": {
      "model_module": "@jupyter-widgets/base",
      "model_module_version": "1.2.0",
      "model_name": "LayoutModel",
      "state": {
       "grid_area": "widget012"
      }
     },
     "c3bd09c5cbbf4d3bb28b4c822bd65b04": {
      "model_module": "@jupyter-widgets/controls",
      "model_module_version": "1.5.0",
      "model_name": "DescriptionStyleModel",
      "state": {
       "description_width": ""
      }
     },
     "c4cce9a6a5eb405886334461d67c5456": {
      "model_module": "@jupyter-widgets/base",
      "model_module_version": "1.2.0",
      "model_name": "LayoutModel",
      "state": {
       "grid_area": "widget003"
      }
     },
     "ca9f46da761c4f87be3bc06971158101": {
      "model_module": "@jupyter-widgets/controls",
      "model_module_version": "1.5.0",
      "model_name": "LabelModel",
      "state": {
       "_dom_classes": [
        "custom-size"
       ],
       "layout": "IPY_MODEL_bd6457f5b42f4fb48340408e81e9caf2",
       "style": "IPY_MODEL_a18c58462634401da542989ac386d714"
      }
     },
     "caa9895f901f43719f86f68d0a07d27b": {
      "model_module": "@jupyter-widgets/base",
      "model_module_version": "1.2.0",
      "model_name": "LayoutModel",
      "state": {
       "grid_area": "widget002"
      }
     },
     "cb10790fd7a2429286e98b267c4c4a14": {
      "model_module": "@jupyter-widgets/base",
      "model_module_version": "1.2.0",
      "model_name": "LayoutModel",
      "state": {
       "grid_area": "widget005"
      }
     },
     "cb530eaa0b434c63b5bd69823f3bc101": {
      "model_module": "@jupyter-widgets/controls",
      "model_module_version": "1.5.0",
      "model_name": "LabelModel",
      "state": {
       "_dom_classes": [
        "custom-size"
       ],
       "layout": "IPY_MODEL_44ec8bd918c0456092ee56d18f9f2873",
       "style": "IPY_MODEL_2bf6d3e3bda54126863d547c0aca8e1c",
       "value": "1"
      }
     },
     "cd32981e1c5f4b11bc5913ae6259ba15": {
      "model_module": "@jupyter-widgets/controls",
      "model_module_version": "1.5.0",
      "model_name": "DescriptionStyleModel",
      "state": {
       "description_width": ""
      }
     },
     "cf8906605ed54126ab13cc03268e491a": {
      "model_module": "@jupyter-widgets/controls",
      "model_module_version": "1.5.0",
      "model_name": "DescriptionStyleModel",
      "state": {
       "description_width": ""
      }
     },
     "cf91a1db6d22400fa35992e86341933d": {
      "model_module": "@jupyter-widgets/controls",
      "model_module_version": "1.5.0",
      "model_name": "IntProgressModel",
      "state": {
       "bar_style": "info",
       "description": "Create markov model:",
       "layout": "IPY_MODEL_7accd1efa26e476baeef8403beea5d8b",
       "max": 8280,
       "style": "IPY_MODEL_478d905ad1d64cbd854c6179d40f80aa",
       "value": 8280
      }
     },
     "cf990f3b54cd4344a7104aba5aa485c7": {
      "model_module": "@jupyter-widgets/base",
      "model_module_version": "1.2.0",
      "model_name": "LayoutModel",
      "state": {
       "grid_area": "widget022"
      }
     },
     "cf9951d3c5174d89b3e48bcd8f698b7e": {
      "model_module": "@jupyter-widgets/controls",
      "model_module_version": "1.5.0",
      "model_name": "DescriptionStyleModel",
      "state": {
       "description_width": ""
      }
     },
     "d087d527b14746c2b9a655c7e8d24389": {
      "model_module": "@jupyter-widgets/controls",
      "model_module_version": "1.5.0",
      "model_name": "DescriptionStyleModel",
      "state": {
       "description_width": ""
      }
     },
     "d39e76bdf6f74c848eeae57f018ec07a": {
      "model_module": "@jupyter-widgets/controls",
      "model_module_version": "1.5.0",
      "model_name": "DescriptionStyleModel",
      "state": {
       "description_width": ""
      }
     },
     "d3cf0a7c938647268b7c00a0bd57345a": {
      "model_module": "@jupyter-widgets/controls",
      "model_module_version": "1.5.0",
      "model_name": "LabelModel",
      "state": {
       "_dom_classes": [
        "custom-size"
       ],
       "layout": "IPY_MODEL_8e585c4785834875b7363f66f4a108f5",
       "style": "IPY_MODEL_03738863e27b4c5982545468d156c697"
      }
     },
     "d540f220cda34c84a4ce2d16d3ee7139": {
      "model_module": "@jupyter-widgets/base",
      "model_module_version": "1.2.0",
      "model_name": "LayoutModel",
      "state": {
       "grid_area": "widget020"
      }
     },
     "d55490d4b36a4805834f3b55d5fcf0ca": {
      "model_module": "@jupyter-widgets/base",
      "model_module_version": "1.2.0",
      "model_name": "LayoutModel",
      "state": {
       "grid_area": "widget021"
      }
     },
     "d62ff17164534775b0990888d8251669": {
      "model_module": "@jupyter-widgets/controls",
      "model_module_version": "1.5.0",
      "model_name": "LabelModel",
      "state": {
       "_dom_classes": [
        "custom-size"
       ],
       "layout": "IPY_MODEL_71c97180cf514fd9b09ebade53a0dc3d",
       "style": "IPY_MODEL_54fb909ca2b64a058e084b43c1452227"
      }
     },
     "d79baca00ebb4871915ac97024a6bea8": {
      "model_module": "@jupyter-widgets/controls",
      "model_module_version": "1.5.0",
      "model_name": "DescriptionStyleModel",
      "state": {
       "description_width": ""
      }
     },
     "ddd3b5cea102420ab6c7b918df0b49f8": {
      "model_module": "@jupyter-widgets/base",
      "model_module_version": "1.2.0",
      "model_name": "LayoutModel",
      "state": {
       "grid_area": "widget004"
      }
     },
     "ddec4ee37a1942b084ec3094039dde5d": {
      "model_module": "@jupyter-widgets/controls",
      "model_module_version": "1.5.0",
      "model_name": "LabelModel",
      "state": {
       "_dom_classes": [
        "custom-size"
       ],
       "layout": "IPY_MODEL_cb10790fd7a2429286e98b267c4c4a14",
       "style": "IPY_MODEL_cf9951d3c5174d89b3e48bcd8f698b7e",
       "value": "1"
      }
     },
     "de4563207a3547b48b512a8afc12f033": {
      "model_module": "@jupyter-widgets/controls",
      "model_module_version": "1.5.0",
      "model_name": "DescriptionStyleModel",
      "state": {
       "description_width": ""
      }
     },
     "df830dbc338e4c31829b5e95e1be09a5": {
      "model_module": "@jupyter-widgets/controls",
      "model_module_version": "1.5.0",
      "model_name": "DescriptionStyleModel",
      "state": {
       "description_width": ""
      }
     },
     "dfc6c14deb5c42688a045746b35b55dd": {
      "model_module": "@jupyter-widgets/controls",
      "model_module_version": "1.5.0",
      "model_name": "LabelModel",
      "state": {
       "_dom_classes": [
        "custom-size"
       ],
       "layout": "IPY_MODEL_d540f220cda34c84a4ce2d16d3ee7139",
       "style": "IPY_MODEL_d087d527b14746c2b9a655c7e8d24389",
       "value": "Time elapsed"
      }
     },
     "e0b1a6f5066d4034ad748404ac0fd796": {
      "model_module": "@jupyter-widgets/base",
      "model_module_version": "1.2.0",
      "model_name": "LayoutModel",
      "state": {
       "grid_area": "widget020"
      }
     },
     "e19f3b76efd84c82a472062ec7eecc00": {
      "model_module": "@jupyter-widgets/controls",
      "model_module_version": "1.5.0",
      "model_name": "LabelModel",
      "state": {
       "_dom_classes": [
        "custom-size"
       ],
       "layout": "IPY_MODEL_9cc15179d5d54c8d80faf1461ffc0bb4",
       "style": "IPY_MODEL_2ee60356c5b84540a6e1dbf128f1011b"
      }
     },
     "e1f392817bf94116942d880bab3b4ee5": {
      "model_module": "@jupyter-widgets/controls",
      "model_module_version": "1.5.0",
      "model_name": "LabelModel",
      "state": {
       "_dom_classes": [
        "custom-size"
       ],
       "layout": "IPY_MODEL_ea6b90e6f83c43469f3c79561cda0625",
       "style": "IPY_MODEL_6d73890daf8a43acb73e6d92c3266997"
      }
     },
     "e219feea05534152b1ea86c9a4e163e9": {
      "model_module": "@jupyter-widgets/base",
      "model_module_version": "1.2.0",
      "model_name": "LayoutModel",
      "state": {}
     },
     "e2ff92db0e8b432583517b593da87f58": {
      "model_module": "@jupyter-widgets/base",
      "model_module_version": "1.2.0",
      "model_name": "LayoutModel",
      "state": {
       "grid_area": "widget019"
      }
     },
     "e3cc93cfd47746779c1157d876b5711d": {
      "model_module": "@jupyter-widgets/controls",
      "model_module_version": "1.5.0",
      "model_name": "LabelModel",
      "state": {
       "_dom_classes": [
        "custom-size"
       ],
       "layout": "IPY_MODEL_90cb8b1c26fa4c5cbca3c2a8cd851670",
       "style": "IPY_MODEL_a5d183f9b6514ecc866ce65dc596afee"
      }
     },
     "e3fd7523d4a941c48f125bf19191b711": {
      "model_module": "@jupyter-widgets/controls",
      "model_module_version": "1.5.0",
      "model_name": "DescriptionStyleModel",
      "state": {
       "description_width": ""
      }
     },
     "e7a40dd02bd747cc802566900acebcb9": {
      "model_module": "@jupyter-widgets/base",
      "model_module_version": "1.2.0",
      "model_name": "LayoutModel",
      "state": {
       "grid_area": "widget017"
      }
     },
     "ea6b90e6f83c43469f3c79561cda0625": {
      "model_module": "@jupyter-widgets/base",
      "model_module_version": "1.2.0",
      "model_name": "LayoutModel",
      "state": {
       "grid_area": "widget009"
      }
     },
     "ec88a98a4a264688824d46a50d8a957e": {
      "model_module": "@jupyter-widgets/controls",
      "model_module_version": "1.5.0",
      "model_name": "LabelModel",
      "state": {
       "_dom_classes": [
        "custom-size"
       ],
       "layout": "IPY_MODEL_69b8525169e24debba51da08308b008e",
       "style": "IPY_MODEL_cf8906605ed54126ab13cc03268e491a",
       "value": "2"
      }
     },
     "ecb558c053a24e08bae6198d092470aa": {
      "model_module": "@jupyter-widgets/controls",
      "model_module_version": "1.5.0",
      "model_name": "LabelModel",
      "state": {
       "_dom_classes": [
        "custom-size"
       ],
       "layout": "IPY_MODEL_e0b1a6f5066d4034ad748404ac0fd796",
       "style": "IPY_MODEL_fc955bb4912345fb9c12c2223fabad41",
       "value": "Time elapsed"
      }
     },
     "ed94abc3bba54af3b9ca8b4860df00ba": {
      "model_module": "@jupyter-widgets/controls",
      "model_module_version": "1.5.0",
      "model_name": "LabelModel",
      "state": {
       "_dom_classes": [
        "custom-size"
       ],
       "layout": "IPY_MODEL_9f5e7da4f6f6477aa3f039bc0f682fc4",
       "style": "IPY_MODEL_afccfeca6d904a4998aea0a36958e396"
      }
     },
     "ee2ba1f75b0a49518d31fba162e1ee25": {
      "model_module": "@jupyter-widgets/controls",
      "model_module_version": "1.5.0",
      "model_name": "LabelModel",
      "state": {
       "_dom_classes": [
        "custom-size"
       ],
       "layout": "IPY_MODEL_22b8951668554c2ba96c3619ef09c2eb",
       "style": "IPY_MODEL_8db9dfb3e9ba4ae590bb673d488e3f19",
       "value": "Levenshtein"
      }
     },
     "efa27402b8bf4157aadd04e915a07cf5": {
      "model_module": "@jupyter-widgets/controls",
      "model_module_version": "1.5.0",
      "model_name": "LabelModel",
      "state": {
       "_dom_classes": [
        "custom-size"
       ],
       "layout": "IPY_MODEL_1e7bfe8b0a3244fba674e1b47195c5a7",
       "style": "IPY_MODEL_2ddd712c6c894760ac51573796e7a465"
      }
     },
     "f13de91dadf14983b3ef0146aeb1d8fb": {
      "model_module": "@jupyter-widgets/controls",
      "model_module_version": "1.5.0",
      "model_name": "TextModel",
      "state": {
       "layout": "IPY_MODEL_9e91c8dbf96f4b22af616c09171230f3",
       "style": "IPY_MODEL_33e1f244977f4f1fa28a471af275a117"
      }
     },
     "f2653f6e0bed49f8b7fcfda41c6a8908": {
      "model_module": "@jupyter-widgets/controls",
      "model_module_version": "1.5.0",
      "model_name": "DescriptionStyleModel",
      "state": {
       "description_width": ""
      }
     },
     "f76b9b8d2a3f42078497d725b37c1e39": {
      "model_module": "@jupyter-widgets/controls",
      "model_module_version": "1.5.0",
      "model_name": "DescriptionStyleModel",
      "state": {
       "description_width": ""
      }
     },
     "f86812b764ce48ef8002bb400c7d6dd2": {
      "model_module": "@jupyter-widgets/controls",
      "model_module_version": "1.5.0",
      "model_name": "TextModel",
      "state": {
       "_dom_classes": [
        "custom-size"
       ],
       "layout": "IPY_MODEL_5f639762aca243ed9fd54baaabb4aaba",
       "style": "IPY_MODEL_13a886bf28184b2584fee3b2c6d6c69b"
      }
     },
     "f9340aeea08844e78b1ca2b3719441e6": {
      "model_module": "@jupyter-widgets/controls",
      "model_module_version": "1.5.0",
      "model_name": "LabelModel",
      "state": {
       "_dom_classes": [
        "custom-size"
       ],
       "layout": "IPY_MODEL_2fc11bf9432a45b7a77da312e652dabc",
       "style": "IPY_MODEL_5f237a2f182944e19fe89c9a1b08e5f1"
      }
     },
     "fa38e018f8c94fc2a60b07300849ce70": {
      "model_module": "@jupyter-widgets/controls",
      "model_module_version": "1.5.0",
      "model_name": "ProgressStyleModel",
      "state": {
       "bar_color": "blue",
       "description_width": ""
      }
     },
     "fb0b558124b24591943c658711ffd73b": {
      "model_module": "@jupyter-widgets/controls",
      "model_module_version": "1.5.0",
      "model_name": "DescriptionStyleModel",
      "state": {
       "description_width": ""
      }
     },
     "fb120a12e82e4633b872fdb4b6ff596b": {
      "model_module": "@jupyter-widgets/controls",
      "model_module_version": "1.5.0",
      "model_name": "LabelModel",
      "state": {
       "_dom_classes": [
        "custom-size"
       ],
       "layout": "IPY_MODEL_ddd3b5cea102420ab6c7b918df0b49f8",
       "style": "IPY_MODEL_bedd67b13664401a9c43f8d582d14b49",
       "value": "Damerau-Levenshtein-Reglable"
      }
     },
     "fc4de5b24a054f728da84843979b9d82": {
      "model_module": "@jupyter-widgets/base",
      "model_module_version": "1.2.0",
      "model_name": "LayoutModel",
      "state": {
       "grid_area": "widget018"
      }
     },
     "fc955bb4912345fb9c12c2223fabad41": {
      "model_module": "@jupyter-widgets/controls",
      "model_module_version": "1.5.0",
      "model_name": "DescriptionStyleModel",
      "state": {
       "description_width": ""
      }
     }
    },
    "version_major": 2,
    "version_minor": 0
   }
  }
 },
 "nbformat": 4,
 "nbformat_minor": 5
}
